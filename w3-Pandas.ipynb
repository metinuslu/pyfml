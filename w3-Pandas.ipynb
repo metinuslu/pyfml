{
 "cells": [
  {
   "cell_type": "markdown",
   "metadata": {},
   "source": [
    "## Pandas\n",
    "\n",
    "Pandas; hızlı, güçlü, esnek ve kullanımı kolay bir açık kaynak veri analizi ve manipülasyon aracıdır. Python programlama dilinin üzerine inşa edilmiştir.\n",
    "\n",
    "**Site:** https://pandas.pydata.org/\n",
    "\n",
    "**User Guide:** https://pandas.pydata.org/docs/user_guide/index.html\n",
    "\n",
    "https://pandas.pydata.org/pandas-docs/stable/\n",
    "\n"
   ]
  },
  {
   "cell_type": "markdown",
   "metadata": {},
   "source": [
    "### Content\n",
    "____\n",
    "\n",
    "* Kurulum(#)\n",
    "* [Pandas Option](#Pandas-Option)\n",
    "* Pandas Data Structure(#)\n",
    "    * Series\n",
    "\t* Data Frame\n",
    "* Input/Output(#)\n",
    "* Summarize(#)\n",
    "* Selection(#)\n",
    "* Add Column(#)\n",
    "* Drop Column(#)\n",
    "* Drop Rows(#)\n",
    "* Drop Duplicates Rows(#)\n",
    "* Rename Columns(#)\n",
    "* Reorder Columns(#)\n",
    "* Pivot Table(#)\n",
    "* Columns Concatenate(#)\n",
    "* Columns Cast(#)\n",
    "* Feature Extraction(#)\n",
    "* Index(#)\n",
    "* Locate Rows(loc & iloc)(#)\n",
    "* Filtering(#)\n",
    "* Missing Values(#)\n",
    "* Apply Function(#)\n",
    "* Group By & Aggregation(#)\n",
    "* Data Frame Concatenate(#)\n",
    "    Concatenate(#)\n",
    "    Join(#)\n",
    "    Merge(#)\n",
    "____"
   ]
  },
  {
   "cell_type": "markdown",
   "metadata": {},
   "source": [
    "### Kurulum"
   ]
  },
  {
   "cell_type": "code",
   "execution_count": null,
   "metadata": {},
   "outputs": [],
   "source": [
    "# !conda install pandas\n",
    "# !pip install pandas"
   ]
  },
  {
   "cell_type": "code",
   "execution_count": null,
   "metadata": {},
   "outputs": [],
   "source": [
    "import pandas as pd\n",
    "import numpy as np"
   ]
  },
  {
   "cell_type": "code",
   "execution_count": null,
   "metadata": {},
   "outputs": [],
   "source": [
    "print('Pandas Version:', pd.__version__)"
   ]
  },
  {
   "cell_type": "code",
   "execution_count": null,
   "metadata": {},
   "outputs": [],
   "source": [
    "pd"
   ]
  },
  {
   "cell_type": "code",
   "execution_count": null,
   "metadata": {},
   "outputs": [],
   "source": [
    "# dir(pd)"
   ]
  },
  {
   "cell_type": "markdown",
   "metadata": {},
   "source": [
    "### Pandas Option"
   ]
  },
  {
   "cell_type": "code",
   "execution_count": null,
   "metadata": {},
   "outputs": [],
   "source": [
    "# Pandas Options: Get, Set Describe, Reset\n",
    "\n",
    "pd.get_option()\n",
    "\n",
    "pd.set_option()\n",
    "pd.set_option('display.float_format', '{:.2f}'.format)\n",
    "pd.set_option('display.max_columns', 999)\n",
    "pd.set_option('display.max_rows', 150)\n",
    "\n",
    "pd.describe_option()\n",
    "\n",
    "pd.reset_option()"
   ]
  },
  {
   "cell_type": "markdown",
   "metadata": {},
   "source": [
    "![image info](./Garbage/pandas1.png)\n",
    "\n",
    "**Source:** [https://storage.googleapis.com/lds-media/images/series-and-dataframe.width-1200.png](https://www.learndatasci.com/tutorials/python-pandas-tutorial-complete-introduction-for-beginners/)"
   ]
  },
  {
   "cell_type": "markdown",
   "metadata": {},
   "source": [
    "### Series\n",
    "\n",
    "A Series is a one-dimensional labeled array that can contain data of any type (for example, integer, string, float, or Python objects).\n",
    "\n",
    "Seriler, her türden veri (örneğin, tamsayı, dize, kayan nokta veya Python nesneleri) içerebilen tek boyutlu etiketli bir dizidir."
   ]
  },
  {
   "cell_type": "code",
   "execution_count": null,
   "metadata": {},
   "outputs": [],
   "source": [
    "s1 = pd.Series(data=[1, 3, 5, np.nan, np.inf, 11, 13])\n",
    "# s1 = pd.Series(data=[1, 3, 5, np.nan, np.inf, 11, 13], index=?)\n",
    "s1"
   ]
  },
  {
   "cell_type": "code",
   "execution_count": null,
   "metadata": {},
   "outputs": [],
   "source": [
    "store_name= ['A', 'B', 'C', 'D', 'E']\n",
    "store_code = [100, 101, 102, 103, 104]\n",
    "\n",
    "store_dict = dict(zip(store_code, store_name))\n",
    "# store_dict = {k:v for k, v in zip(store_code, store_name)}\n",
    "# https://stackoverflow.com/questions/209840/convert-two-lists-into-a-dictionary\n",
    "\n",
    "store_dict"
   ]
  },
  {
   "cell_type": "code",
   "execution_count": null,
   "metadata": {},
   "outputs": [],
   "source": [
    "s2 = pd.Series(data=store_name)\n",
    "s2"
   ]
  },
  {
   "cell_type": "code",
   "execution_count": null,
   "metadata": {},
   "outputs": [],
   "source": [
    "s2 = pd.Series(data=store_name, index=store_code)\n",
    "s2"
   ]
  },
  {
   "cell_type": "code",
   "execution_count": null,
   "metadata": {},
   "outputs": [],
   "source": [
    "s2 = pd.Series(data=store_dict)\n",
    "s2"
   ]
  },
  {
   "cell_type": "code",
   "execution_count": null,
   "metadata": {},
   "outputs": [],
   "source": [
    "s2[104]"
   ]
  },
  {
   "cell_type": "markdown",
   "metadata": {},
   "source": [
    "### DataFrame\n",
    "\n",
    "A DataFrame is a two-dimensional data structure, the data consists of rows and columns that you can create a in many ways, by loading a file or using a NumPy array and a date for the index.\n",
    "\n",
    "\n",
    "Bir DataFrame iki boyutlu bir veri yapısıdır. Veriler, çeşitli şekillerde oluşturabileceğiniz satır ve sütunlardan oluşur. Örneğin, bir dosya yükleyebilir veya bir NumPy dizisi ve dizin için bir tarih kullanabilirsiniz. NumPy, çok boyutlu diziler ve bu diziler üzerinde çalışmak üzere geniş bir matematiksel işlev koleksiyonuna sahip matrislerle çalışmak için bir Python kütüphanesidir."
   ]
  },
  {
   "cell_type": "markdown",
   "metadata": {},
   "source": [
    "![image info](./Garbage/pandas2.png)\n",
    "\n",
    "**Source:** [https://www.geeksforgeeks.org/python-pandas-dataframe/](https://www.geeksforgeeks.org/python-pandas-dataframe/)"
   ]
  },
  {
   "cell_type": "markdown",
   "metadata": {},
   "source": [
    "![image nfo](./Garbage/pandas3.png)\n",
    "\n",
    "**Source:** [https://pbpython.com/pandas_dtypes.html](https://pbpython.com/pandas_dtypes.html)"
   ]
  },
  {
   "cell_type": "code",
   "execution_count": null,
   "metadata": {},
   "outputs": [],
   "source": [
    "dates = pd.date_range('20200101', periods=10, freq='D')\n",
    "\n",
    "print(type(dates))\n",
    "print(dates)"
   ]
  },
  {
   "cell_type": "code",
   "execution_count": null,
   "metadata": {},
   "outputs": [],
   "source": [
    "numbers = np.random.randn(10, 5)\n",
    "\n",
    "print(type(numbers))\n",
    "print(numbers)"
   ]
  },
  {
   "cell_type": "code",
   "execution_count": null,
   "metadata": {},
   "outputs": [],
   "source": [
    "# Array to DataFrame\n",
    "\n",
    "df_data1 = pd.DataFrame(numbers, index=dates, columns=['A', 'B', 'C', 'D', 'E'])\n",
    "df_data1"
   ]
  },
  {
   "cell_type": "code",
   "execution_count": null,
   "metadata": {},
   "outputs": [],
   "source": [
    "# Dictionary to DataFrame\n",
    "\n",
    "fruit = {'apples': [3, 2, 0, 1], 'oranges': [0, 3, 7, 2]}\n",
    "\n",
    "print(type(fruit))\n",
    "print(fruit)"
   ]
  },
  {
   "cell_type": "code",
   "execution_count": null,
   "metadata": {},
   "outputs": [],
   "source": [
    "df_data2 = pd.DataFrame(fruit)\n",
    "df_data2"
   ]
  },
  {
   "cell_type": "code",
   "execution_count": null,
   "metadata": {},
   "outputs": [],
   "source": [
    "df_data2 = pd.DataFrame(fruit, index=['June', 'Robert', 'Lily', 'David'])\n",
    "\n",
    "df_data2"
   ]
  },
  {
   "cell_type": "code",
   "execution_count": null,
   "metadata": {},
   "outputs": [],
   "source": [
    "# Mixed Data Type to DataFrame\n",
    "\n",
    "df_data3 = pd.DataFrame({\n",
    "    'col_int': [1,2,3,4,5],\n",
    "    'col_float': [.5, .6, .7, .8, .9],\n",
    "    'col_string': ['this', 'column', 'has', 'string', 'expression'],\n",
    "    'col_binary': [True, False, False, True, True]\n",
    "}\n",
    ")"
   ]
  },
  {
   "cell_type": "code",
   "execution_count": null,
   "metadata": {},
   "outputs": [],
   "source": [
    "df_data3"
   ]
  },
  {
   "cell_type": "code",
   "execution_count": null,
   "metadata": {},
   "outputs": [],
   "source": [
    "# Mixed Data Type to DataFrame\n",
    "\n",
    "df_data4 = pd.DataFrame({'A': pd.date_range('20191225', periods=10, freq='D'),\n",
    "#                          'A': pd.Timestamp('20191225'),\n",
    "                         'B': 1.,\n",
    "                         'C': pd.Series(1, index=list(range(10)), dtype='float32'),\n",
    "                         'D': np.array([3] * 10, dtype='int32'),\n",
    "                         'E': pd.Categorical([\"Man\", \"Woman\", \"Man\", \"Woman\", \"Woman\",\n",
    "                                              \"Man\", \"Woman\", \"Man\", \"Woman\", \"Woman\"]),\n",
    "                         'F': 'foo'})"
   ]
  },
  {
   "cell_type": "code",
   "execution_count": null,
   "metadata": {},
   "outputs": [],
   "source": [
    "df_data4"
   ]
  },
  {
   "cell_type": "code",
   "execution_count": null,
   "metadata": {},
   "outputs": [],
   "source": [
    "df_data5 = pd.DataFrame({'Math'     : [80, 89, 93,66, 84, 85,74,64],\n",
    "                         'Science'  : [94, 76, 88, 78, 88, 92, 60, 85],\n",
    "                         'English'  : [83, 76, 93, 96, 77, 85, 92, 60],\n",
    "                         'History'  : [96, 66, 76, 85, 78, 88, 69, 99]})"
   ]
  },
  {
   "cell_type": "code",
   "execution_count": null,
   "metadata": {},
   "outputs": [],
   "source": [
    "df_data5"
   ]
  },
  {
   "cell_type": "markdown",
   "metadata": {},
   "source": [
    "### <center>Mock Data: Person.csv</center>"
   ]
  },
  {
   "cell_type": "markdown",
   "metadata": {},
   "source": [
    "### Input/Output\n",
    "\n",
    "**Source:**: https://pandas.pydata.org/pandas-docs/stable/reference/io.html"
   ]
  },
  {
   "cell_type": "code",
   "execution_count": null,
   "metadata": {},
   "outputs": [],
   "source": [
    "import pandas as pd\n",
    "import numpy as np"
   ]
  },
  {
   "cell_type": "code",
   "execution_count": null,
   "metadata": {},
   "outputs": [],
   "source": [
    "df_data = pd.read_csv('./Garbage/Person1_1.csv', sep=',')"
   ]
  },
  {
   "cell_type": "code",
   "execution_count": null,
   "metadata": {},
   "outputs": [],
   "source": [
    "df_data"
   ]
  },
  {
   "cell_type": "code",
   "execution_count": null,
   "metadata": {},
   "outputs": [],
   "source": [
    "df_data.to_csv(filename, index=False, header=\"true\", sep=\";\", encoding=\"utf-8\")\n",
    "\n",
    "df_data.to_csv(filename, index=True, index_label=\"No\", header=\"true\", sep=\";\", encoding=\"utf-8\")\n",
    "\n",
    "pd.to_csv()\n",
    "pd.to_excel()\n"
   ]
  },
  {
   "cell_type": "code",
   "execution_count": null,
   "metadata": {},
   "outputs": [],
   "source": []
  },
  {
   "cell_type": "markdown",
   "metadata": {},
   "source": [
    "### Summarize"
   ]
  },
  {
   "cell_type": "code",
   "execution_count": null,
   "metadata": {},
   "outputs": [],
   "source": [
    "df_data.head()\n",
    "\n",
    "df_data.head(n=10)"
   ]
  },
  {
   "cell_type": "code",
   "execution_count": null,
   "metadata": {},
   "outputs": [],
   "source": [
    "df_data.tail()\n",
    "\n",
    "df_data.tail(n=10)"
   ]
  },
  {
   "cell_type": "code",
   "execution_count": null,
   "metadata": {},
   "outputs": [],
   "source": [
    " df_data.columns"
   ]
  },
  {
   "cell_type": "code",
   "execution_count": null,
   "metadata": {},
   "outputs": [],
   "source": [
    "df_data.index"
   ]
  },
  {
   "cell_type": "code",
   "execution_count": null,
   "metadata": {},
   "outputs": [],
   "source": [
    "df_data.values"
   ]
  },
  {
   "cell_type": "code",
   "execution_count": null,
   "metadata": {},
   "outputs": [],
   "source": [
    "df_data.shape"
   ]
  },
  {
   "cell_type": "code",
   "execution_count": null,
   "metadata": {},
   "outputs": [],
   "source": [
    "df_data.ndim"
   ]
  },
  {
   "cell_type": "code",
   "execution_count": null,
   "metadata": {},
   "outputs": [],
   "source": [
    "df_data.dtypes"
   ]
  },
  {
   "cell_type": "code",
   "execution_count": null,
   "metadata": {},
   "outputs": [],
   "source": [
    "df_data.info()"
   ]
  },
  {
   "cell_type": "code",
   "execution_count": null,
   "metadata": {},
   "outputs": [],
   "source": [
    "df_data.count()"
   ]
  },
  {
   "cell_type": "code",
   "execution_count": null,
   "metadata": {},
   "outputs": [],
   "source": [
    "len(df_data)"
   ]
  },
  {
   "cell_type": "code",
   "execution_count": null,
   "metadata": {},
   "outputs": [],
   "source": [
    "df_data['city'].unique()"
   ]
  },
  {
   "cell_type": "code",
   "execution_count": null,
   "metadata": {},
   "outputs": [],
   "source": [
    "df_data['city'].nunique()"
   ]
  },
  {
   "cell_type": "code",
   "execution_count": null,
   "metadata": {},
   "outputs": [],
   "source": [
    "df_data['city'].value_counts()"
   ]
  },
  {
   "cell_type": "code",
   "execution_count": null,
   "metadata": {},
   "outputs": [],
   "source": [
    "df_data.sort_values(by='salary', ascending=False).head(n=5)"
   ]
  },
  {
   "cell_type": "code",
   "execution_count": null,
   "metadata": {},
   "outputs": [],
   "source": [
    "df_data.describe()"
   ]
  },
  {
   "cell_type": "code",
   "execution_count": null,
   "metadata": {},
   "outputs": [],
   "source": [
    "df_data.describe().T\n",
    "\n",
    "# df_data['salary'].describe().T\n",
    "# df_data[['salary']].describe().T"
   ]
  },
  {
   "cell_type": "code",
   "execution_count": null,
   "metadata": {},
   "outputs": [],
   "source": [
    "df_data.describe().round(2)"
   ]
  },
  {
   "cell_type": "code",
   "execution_count": null,
   "metadata": {},
   "outputs": [],
   "source": [
    "df_data.quantile([0.1, 0.25, 0.5, 0.75, 0.9])"
   ]
  },
  {
   "cell_type": "code",
   "execution_count": null,
   "metadata": {},
   "outputs": [],
   "source": [
    "# mean\n",
    "df_data.mean()\n",
    "# df_data['salary'].mean()"
   ]
  },
  {
   "cell_type": "code",
   "execution_count": null,
   "metadata": {},
   "outputs": [],
   "source": [
    "# standard deviation\n",
    "df_data.std()\n",
    "# df_data['salary'].std()"
   ]
  },
  {
   "cell_type": "code",
   "execution_count": null,
   "metadata": {},
   "outputs": [],
   "source": [
    "# variance\n",
    "df_data.var()\n",
    "# df_data['salary'].var()"
   ]
  },
  {
   "cell_type": "code",
   "execution_count": null,
   "metadata": {},
   "outputs": [],
   "source": [
    "# count\n",
    "df_data.count()\n",
    "# df_data['salary'].count()"
   ]
  },
  {
   "cell_type": "code",
   "execution_count": null,
   "metadata": {},
   "outputs": [],
   "source": [
    "# median\n",
    "df_data.median()\n",
    "# df_data['salary'].median()"
   ]
  },
  {
   "cell_type": "code",
   "execution_count": null,
   "metadata": {},
   "outputs": [],
   "source": [
    "# min\n",
    "df_data.min()\n",
    "# df_data['salary'].min()"
   ]
  },
  {
   "cell_type": "code",
   "execution_count": null,
   "metadata": {},
   "outputs": [],
   "source": [
    "# max\n",
    "df_data.max()\n",
    "# df_data['salary'].max()"
   ]
  },
  {
   "cell_type": "code",
   "execution_count": null,
   "metadata": {},
   "outputs": [],
   "source": [
    "# skewness\n",
    "df_data.skew()\n",
    "# df_data['salary'].skew()"
   ]
  },
  {
   "cell_type": "code",
   "execution_count": null,
   "metadata": {},
   "outputs": [],
   "source": [
    "# kurtosis\n",
    "df_data.kurt()\n",
    "# df_data['salary'].kurt()"
   ]
  },
  {
   "cell_type": "code",
   "execution_count": null,
   "metadata": {},
   "outputs": [],
   "source": [
    "# correlation\n",
    "df_data.corr()\n",
    "\n",
    "# df_data['salary'].corr()\n",
    "\n",
    "# Pearson\n",
    "df_data[\"MusteriBulunurluk\"].corr(df_data[\"Adet\"], method = 'pearson')\n",
    "\n",
    "#Spearman\n",
    "df_data[\"MusteriBulunurluk\"].corr(df_data[\"Adet\"], method=\"spearman\")\n",
    "\n",
    "# Notes: \n",
    "# https://stackoverflow.com/questions/22655667/dataframe-correlation-produces-nan-although-its-values-are-all-integers"
   ]
  },
  {
   "cell_type": "code",
   "execution_count": null,
   "metadata": {},
   "outputs": [],
   "source": [
    "# correlation for many data frame or series\n",
    "\n",
    "df_data.corrwith(df_data2)"
   ]
  },
  {
   "cell_type": "code",
   "execution_count": null,
   "metadata": {},
   "outputs": [],
   "source": [
    "# Yuvarlama\n",
    "round(number, ndigits=3)"
   ]
  },
  {
   "cell_type": "code",
   "execution_count": null,
   "metadata": {},
   "outputs": [],
   "source": [
    "df_data.select_dtypes(include=['float64', 'int64'])"
   ]
  },
  {
   "cell_type": "code",
   "execution_count": null,
   "metadata": {},
   "outputs": [],
   "source": [
    "df_data.select_dtypes(include=['float64', 'int64']).columns"
   ]
  },
  {
   "cell_type": "code",
   "execution_count": null,
   "metadata": {},
   "outputs": [],
   "source": [
    "df_data.select_dtypes(include=['object'])"
   ]
  },
  {
   "cell_type": "code",
   "execution_count": null,
   "metadata": {},
   "outputs": [],
   "source": [
    "df_data.select_dtypes(include=['object']).columns"
   ]
  },
  {
   "cell_type": "markdown",
   "metadata": {},
   "source": [
    "### Selection"
   ]
  },
  {
   "cell_type": "code",
   "execution_count": null,
   "metadata": {},
   "outputs": [],
   "source": [
    "df_data['city']"
   ]
  },
  {
   "cell_type": "code",
   "execution_count": null,
   "metadata": {},
   "outputs": [],
   "source": [
    "df_data.city"
   ]
  },
  {
   "cell_type": "code",
   "execution_count": null,
   "metadata": {},
   "outputs": [],
   "source": [
    "df_data[['city', 'job_title']]"
   ]
  },
  {
   "cell_type": "code",
   "execution_count": null,
   "metadata": {},
   "outputs": [],
   "source": [
    "# subseting a column as a series\n",
    "print(type(df_data['city']))\n",
    "\n",
    "# subseting as a dataframe\n",
    "print(type(df_data[['city']]))"
   ]
  },
  {
   "cell_type": "markdown",
   "metadata": {},
   "source": [
    "### Add Columns"
   ]
  },
  {
   "cell_type": "code",
   "execution_count": null,
   "metadata": {},
   "outputs": [],
   "source": [
    "df_data['Married'] = np.nan\n",
    "df_data"
   ]
  },
  {
   "cell_type": "markdown",
   "metadata": {},
   "source": [
    "### Drop Columns"
   ]
  },
  {
   "cell_type": "code",
   "execution_count": null,
   "metadata": {},
   "outputs": [],
   "source": [
    "df_data.drop('Married', axis=1, inplace=True)\n",
    "df_data\n",
    "\n",
    "# df_data.drop('Married', axis=\"columns\", inplace=True)\n",
    "\n",
    "# df_data( columns=['col1', 'col2', 'col3'], axis='columns' )"
   ]
  },
  {
   "cell_type": "code",
   "execution_count": null,
   "metadata": {},
   "outputs": [],
   "source": [
    "df_data['Married'] = np.nan\n",
    "df_data\n",
    "\n",
    "del df_data['Married']"
   ]
  },
  {
   "cell_type": "code",
   "execution_count": null,
   "metadata": {},
   "outputs": [],
   "source": [
    "df_data.drop(labels=['country'], axis=1, inplace=True)"
   ]
  },
  {
   "cell_type": "code",
   "execution_count": null,
   "metadata": {},
   "outputs": [],
   "source": [
    "df_data"
   ]
  },
  {
   "cell_type": "markdown",
   "metadata": {},
   "source": [
    "### Drop Rows"
   ]
  },
  {
   "cell_type": "code",
   "execution_count": null,
   "metadata": {},
   "outputs": [],
   "source": [
    "df_data.head()"
   ]
  },
  {
   "cell_type": "code",
   "execution_count": null,
   "metadata": {},
   "outputs": [],
   "source": [
    "df_data.drop(labels=0, axis=0).head()\n",
    "\n",
    "# df_data.drop(labels=0, axis=0, inplace=True)\n",
    "# df_data.drop(labels=0, axis=\"rows\", inplace=Truelabels=)"
   ]
  },
  {
   "cell_type": "code",
   "execution_count": null,
   "metadata": {},
   "outputs": [],
   "source": [
    "# df_data.drop(labels=[0, 1, 2], axis=0).head()\n",
    "\n",
    "# df_data.drop(labels=[0, 1, 2], axis=0, inplace=True).head()"
   ]
  },
  {
   "cell_type": "markdown",
   "metadata": {},
   "source": [
    "### Drop Duplicates Rows"
   ]
  },
  {
   "cell_type": "code",
   "execution_count": null,
   "metadata": {},
   "outputs": [],
   "source": [
    "df_data"
   ]
  },
  {
   "cell_type": "code",
   "execution_count": null,
   "metadata": {},
   "outputs": [],
   "source": [
    "df_data.drop_duplicates()\n",
    "\n",
    "df_data.drop_duplicates(inplace=True)\n",
    "df_data"
   ]
  },
  {
   "cell_type": "code",
   "execution_count": null,
   "metadata": {},
   "outputs": [],
   "source": [
    "df_data.reset_index(drop=True, inplace=True)"
   ]
  },
  {
   "cell_type": "code",
   "execution_count": null,
   "metadata": {},
   "outputs": [],
   "source": [
    "df_data"
   ]
  },
  {
   "cell_type": "code",
   "execution_count": null,
   "metadata": {},
   "outputs": [],
   "source": []
  },
  {
   "cell_type": "markdown",
   "metadata": {},
   "source": [
    "### Rename Columns"
   ]
  },
  {
   "cell_type": "code",
   "execution_count": null,
   "metadata": {},
   "outputs": [],
   "source": [
    "# df_data.rename(columns={'id':'cust_id'})\n",
    "\n",
    "df_data.rename(columns={'id':'cust_id', 'sex':'gender'}, inplace=True)\n",
    "df_data"
   ]
  },
  {
   "cell_type": "code",
   "execution_count": null,
   "metadata": {},
   "outputs": [],
   "source": [
    "# cust_id --> id\n",
    "\n",
    "df_data.columns = ['id', 'name', 'surname', 'gender', 'birth_date', 'city', 'job_title', 'salary']"
   ]
  },
  {
   "cell_type": "code",
   "execution_count": null,
   "metadata": {},
   "outputs": [],
   "source": [
    "df_data"
   ]
  },
  {
   "cell_type": "markdown",
   "metadata": {},
   "source": [
    "### Reorder Columns"
   ]
  },
  {
   "cell_type": "code",
   "execution_count": null,
   "metadata": {},
   "outputs": [],
   "source": [
    "# reorder columns - pass a list as a list and index\n",
    "\n",
    "#order we want\n",
    "cols = ['id', 'name', 'surname', 'birth_date', 'gender', 'city', 'job_title', 'salary']\n",
    "\n",
    "# overwrite the old dataframe with the same dataframe but new column order\n",
    "df_data = df_data[cols]"
   ]
  },
  {
   "cell_type": "code",
   "execution_count": null,
   "metadata": {},
   "outputs": [],
   "source": [
    "df_data.head(n=2)"
   ]
  },
  {
   "cell_type": "markdown",
   "metadata": {},
   "source": [
    "### Pivot Table"
   ]
  },
  {
   "cell_type": "code",
   "execution_count": null,
   "metadata": {},
   "outputs": [],
   "source": [
    "# pivot tables\n",
    "df_data.pivot_table(index= ['city', 'gender'])"
   ]
  },
  {
   "cell_type": "markdown",
   "metadata": {},
   "source": [
    "### Feature Concatenate (Merge or Combine)"
   ]
  },
  {
   "cell_type": "code",
   "execution_count": null,
   "metadata": {},
   "outputs": [],
   "source": [
    "df_data['name'] = df_data['name'] +' '+ df_data['surname']\n",
    "# df_data['name'] += ' '+ df_data['surname']\n",
    "\n",
    "df_data.drop(['surname'], axis=1, inplace=True)"
   ]
  },
  {
   "cell_type": "code",
   "execution_count": null,
   "metadata": {},
   "outputs": [],
   "source": [
    "df_data"
   ]
  },
  {
   "cell_type": "markdown",
   "metadata": {},
   "source": [
    "### Cast & Convert"
   ]
  },
  {
   "cell_type": "code",
   "execution_count": null,
   "metadata": {},
   "outputs": [],
   "source": [
    "# Source: https://stackoverflow.com/questions/15891038/change-data-type-of-columns-in-pandas\n",
    "# Source: https://stackoverflow.com/questions/8855574/convert-ndarray-from-float64-to-integer\n",
    "    \n",
    "pd.to_numeric() # df['Price'] = pd.to_numeric(df['Price'])  \n",
    "pd.to_datetime()\n",
    "pd.to_timedelta()\n",
    "\n",
    "s = pd.Series([1, 2, -7])\n",
    "pd.to_numeric(s, downcast='integer')\n",
    "pd.to_numeric(s, downcast='float')\n",
    "\n",
    "\n",
    "\n",
    "\n",
    "pd.astype('int')\n",
    "pd.astype('str')\n",
    "pd.astype('complex')\n",
    "pd.astype('category')\n",
    "pd.astype('float')\n",
    "pd.astype('np.float16')\n",
    "  \n",
    "\n",
    "\n",
    "df = df.astype({\"Column 1\": float, \"Column 2\": int})\n",
    "df.astype({'col1': 'int32'}).dtypes\n",
    "df = df.astype({\"a\": int, \"b\": complex})\n",
    "\n",
    "ser = pd.Series([1, 2], dtype='int32')\n",
    "ser.astype('int64')\n",
    "\n",
    "\n",
    "pd.convert_dtypes()\n",
    "\n",
    "df = pd.DataFrame(\n",
    "    {\n",
    "        \"a\": pd.Series([1, 2, 3], dtype=np.dtype(\"int32\")),\n",
    "        \"b\": pd.Series([\"x\", \"y\", \"z\"], dtype=np.dtype(\"O\")),\n",
    "        \"c\": pd.Series([True, False, np.nan], dtype=np.dtype(\"O\")),\n",
    "        \"d\": pd.Series([\"h\", \"i\", np.nan], dtype=np.dtype(\"O\")),\n",
    "        \"e\": pd.Series([10, np.nan, 20], dtype=np.dtype(\"float\")),\n",
    "        \"f\": pd.Series([np.nan, 100.5, 200], dtype=np.dtype(\"float\")),\n",
    "    }\n",
    ")\n",
    "\n",
    "df\n",
    "\n",
    "df.dtypes\n",
    "\n",
    "dfn = df.convert_dtypes()\n",
    "dfn\n",
    "dfn.dtypes"
   ]
  },
  {
   "cell_type": "code",
   "execution_count": null,
   "metadata": {},
   "outputs": [],
   "source": [
    "\n",
    "for c in dfData.columns:\n",
    "    col_type = dfData[c].dtype\n",
    "    if col_type == 'object' or col_type.name == 'category':\n",
    "        dfData[c] = dfData[c].astype('category')\n"
   ]
  },
  {
   "cell_type": "code",
   "execution_count": null,
   "metadata": {},
   "outputs": [],
   "source": [
    "df_data.dtypes"
   ]
  },
  {
   "cell_type": "code",
   "execution_count": null,
   "metadata": {},
   "outputs": [],
   "source": [
    "df_data['birth_date'].head"
   ]
  },
  {
   "cell_type": "code",
   "execution_count": null,
   "metadata": {},
   "outputs": [],
   "source": [
    "df_data['birth_date'] = df_data['birth_date'].astype('datetime64')\n",
    "# df_data['birth_date'] = df_data.astype({'birth_date': 'datetime64'})"
   ]
  },
  {
   "cell_type": "code",
   "execution_count": null,
   "metadata": {},
   "outputs": [],
   "source": [
    "df_data.dtypes"
   ]
  },
  {
   "cell_type": "code",
   "execution_count": null,
   "metadata": {},
   "outputs": [],
   "source": [
    "df_data['birth_date'].head()"
   ]
  },
  {
   "cell_type": "code",
   "execution_count": null,
   "metadata": {},
   "outputs": [],
   "source": [
    "df_data['birth_date'].dt.year"
   ]
  },
  {
   "cell_type": "code",
   "execution_count": null,
   "metadata": {},
   "outputs": [],
   "source": [
    "df_data['birth_date'].dt.month"
   ]
  },
  {
   "cell_type": "code",
   "execution_count": null,
   "metadata": {},
   "outputs": [],
   "source": [
    "df_data['birth_date'].dt.day"
   ]
  },
  {
   "cell_type": "markdown",
   "metadata": {},
   "source": [
    "### Feature Extraction"
   ]
  },
  {
   "cell_type": "code",
   "execution_count": null,
   "metadata": {},
   "outputs": [],
   "source": [
    "# PersonAge\n",
    "from datetime import datetime\n",
    "year = datetime.now().year\n",
    "print(year)"
   ]
  },
  {
   "cell_type": "code",
   "execution_count": null,
   "metadata": {},
   "outputs": [],
   "source": [
    "df_data['PersonBirthYear'] = df_data['birth_date'].dt.year\n",
    "df_data['PersonBirthMonth'] = df_data['birth_date'].dt.month\n",
    "df_data['PersonBirthDay'] = df_data['birth_date'].dt.day\n",
    "\n",
    "df_data['PersonAge'] = year - df_data['PersonBirthYear']\n",
    "df_data\n",
    "\n",
    "# df_data['Year'] = datetime.now().year\n",
    "# df_data['PersonAge'] = df_data['Year'] - df_data['PersonBirthYear']\n",
    "# df_data"
   ]
  },
  {
   "cell_type": "code",
   "execution_count": null,
   "metadata": {},
   "outputs": [],
   "source": [
    "# df_data.drop('Year', axis=1, inplace=True)\n",
    "\n",
    "# df_data.drop('PersonBirthYear', axis=1, inplace=True)\n",
    "# df_data.drop('PersonBirthMonth', axis=1, inplace=True)\n",
    "# df_data.drop('PersonBirthDay', axis=1, inplace=True)\n",
    "\n",
    "df_data.drop(['PersonBirthYear','PersonBirthMonth','PersonBirthDay'], axis=1, inplace=True)"
   ]
  },
  {
   "cell_type": "code",
   "execution_count": null,
   "metadata": {},
   "outputs": [],
   "source": [
    "df_data.head()"
   ]
  },
  {
   "cell_type": "markdown",
   "metadata": {},
   "source": [
    "### Index"
   ]
  },
  {
   "cell_type": "code",
   "execution_count": null,
   "metadata": {},
   "outputs": [],
   "source": [
    "df_data.index"
   ]
  },
  {
   "cell_type": "code",
   "execution_count": null,
   "metadata": {},
   "outputs": [],
   "source": [
    "df_data.set_index('id')\n",
    "df_data.set_index('id', inplace=True)"
   ]
  },
  {
   "cell_type": "code",
   "execution_count": null,
   "metadata": {},
   "outputs": [],
   "source": [
    "df_data"
   ]
  },
  {
   "cell_type": "code",
   "execution_count": null,
   "metadata": {},
   "outputs": [],
   "source": [
    "df_data.reset_index(inplace=True)\n",
    "df_data.reset_index(drop=True, inplace=True)"
   ]
  },
  {
   "cell_type": "code",
   "execution_count": null,
   "metadata": {},
   "outputs": [],
   "source": [
    "df_data"
   ]
  },
  {
   "cell_type": "markdown",
   "metadata": {},
   "source": [
    "### Locate Rows(.loc & .iloc)"
   ]
  },
  {
   "cell_type": "markdown",
   "metadata": {},
   "source": [
    "For rows, we have two options:\n",
    "\n",
    "**.loc**: locates by name\n",
    "\n",
    "**.iloc**: locates by numerical index"
   ]
  },
  {
   "cell_type": "code",
   "execution_count": null,
   "metadata": {},
   "outputs": [],
   "source": [
    "df_data.set_index('id', inplace=True)\n",
    "df_data"
   ]
  },
  {
   "cell_type": "code",
   "execution_count": null,
   "metadata": {},
   "outputs": [],
   "source": [
    "df_data.loc[1000:1003]"
   ]
  },
  {
   "cell_type": "code",
   "execution_count": null,
   "metadata": {},
   "outputs": [],
   "source": [
    "df_data.iloc[0:4]"
   ]
  },
  {
   "cell_type": "code",
   "execution_count": null,
   "metadata": {},
   "outputs": [],
   "source": [
    "df_data.iloc[2:4, 4:6]"
   ]
  },
  {
   "cell_type": "code",
   "execution_count": null,
   "metadata": {},
   "outputs": [],
   "source": [
    "df_data.iloc[-5:-1, 0:-1]"
   ]
  },
  {
   "cell_type": "code",
   "execution_count": null,
   "metadata": {},
   "outputs": [],
   "source": [
    "df_data.loc[[1002,1003], ['job_title', 'salary']]"
   ]
  },
  {
   "cell_type": "code",
   "execution_count": null,
   "metadata": {},
   "outputs": [],
   "source": [
    "df_data.loc[1000, ['name', 'gender', 'PersonAge']]"
   ]
  },
  {
   "cell_type": "code",
   "execution_count": null,
   "metadata": {},
   "outputs": [],
   "source": [
    "df_data.loc[ [1000,1001,1002,1003], ['name', 'gender', 'PersonAge']]"
   ]
  },
  {
   "cell_type": "code",
   "execution_count": null,
   "metadata": {},
   "outputs": [],
   "source": [
    "row_index = [1000, 1001, 1002, 1003]\n",
    "\n",
    "col_name = ['name', 'gender', 'PersonAge']\n",
    "\n",
    "df_data.loc[row_index, col_name]"
   ]
  },
  {
   "cell_type": "code",
   "execution_count": null,
   "metadata": {},
   "outputs": [],
   "source": [
    "# df_data[['name', 'gender', 'PersonAge']]\n",
    "\n",
    "df_data.iloc[0:4][['name', 'gender', 'PersonAge']]"
   ]
  },
  {
   "cell_type": "code",
   "execution_count": null,
   "metadata": {},
   "outputs": [],
   "source": [
    "df_data.reset_index(inplace=True)\n",
    "df_data"
   ]
  },
  {
   "cell_type": "markdown",
   "metadata": {},
   "source": [
    "### Filtering"
   ]
  },
  {
   "cell_type": "code",
   "execution_count": null,
   "metadata": {},
   "outputs": [],
   "source": [
    "df_data['PersonAge'] == 25"
   ]
  },
  {
   "cell_type": "code",
   "execution_count": null,
   "metadata": {},
   "outputs": [],
   "source": [
    "df_data[ df_data['PersonAge'] == 25 ]"
   ]
  },
  {
   "cell_type": "code",
   "execution_count": null,
   "metadata": {},
   "outputs": [],
   "source": [
    "f1 = df_data['PersonAge'] == 25\n",
    "\n",
    "df_data[ f1 ]"
   ]
  },
  {
   "cell_type": "code",
   "execution_count": null,
   "metadata": {},
   "outputs": [],
   "source": [
    "df_data[df_data['job_title']=='Product Engineer']"
   ]
  },
  {
   "cell_type": "code",
   "execution_count": null,
   "metadata": {},
   "outputs": [],
   "source": [
    "df_data[['name', 'PersonAge', 'salary']][df_data['job_title']=='Product Engineer']"
   ]
  },
  {
   "cell_type": "code",
   "execution_count": null,
   "metadata": {},
   "outputs": [],
   "source": [
    "df_data[ (df_data['city']=='Austin') & (df_data['PersonAge'] >=25) ]"
   ]
  },
  {
   "cell_type": "code",
   "execution_count": null,
   "metadata": {},
   "outputs": [],
   "source": [
    "df_data[ ~ ((df_data['city']=='Austin') & (df_data['PersonAge'] >=25)) ]"
   ]
  },
  {
   "cell_type": "code",
   "execution_count": null,
   "metadata": {},
   "outputs": [],
   "source": [
    "df_data[(df_data['city']=='Austin') | (df_data['PersonAge'] == 25) ]"
   ]
  },
  {
   "cell_type": "code",
   "execution_count": null,
   "metadata": {},
   "outputs": [],
   "source": [
    "df_data[ df_data['city'].isin(['Austin','Chicago']) | (df_data['PersonAge'] == 25)]"
   ]
  },
  {
   "cell_type": "code",
   "execution_count": null,
   "metadata": {},
   "outputs": [],
   "source": [
    "df_data.drop( df_data[ (df_data['PersonAge']>=30) & (df_data['city']=='Chicago') ].index, axis=0 )\n",
    "\n",
    "\n",
    "# df_data.drop(df1[ (df_data['PersonAge']>=30) & (df_data['city']=='Chicago') ].index, axis=0, inplace=True)\n",
    "\n",
    "# df_data = df_data( df_data['PersonAge']>=30 & df_data['city']=='Chicago')\n"
   ]
  },
  {
   "cell_type": "markdown",
   "metadata": {},
   "source": [
    "### Missing Values\n",
    "\n",
    "- isnull()\n",
    "- isna()\n",
    "- dropna()\n",
    "- fillna()"
   ]
  },
  {
   "cell_type": "code",
   "execution_count": null,
   "metadata": {},
   "outputs": [],
   "source": []
  },
  {
   "cell_type": "code",
   "execution_count": null,
   "metadata": {},
   "outputs": [],
   "source": [
    "df1 = df_data.copy(deep=True)\n",
    "df1"
   ]
  },
  {
   "cell_type": "code",
   "execution_count": null,
   "metadata": {},
   "outputs": [],
   "source": [
    "df1.isnull().sum()"
   ]
  },
  {
   "cell_type": "code",
   "execution_count": null,
   "metadata": {},
   "outputs": [],
   "source": []
  },
  {
   "cell_type": "code",
   "execution_count": null,
   "metadata": {},
   "outputs": [],
   "source": [
    "df1[['name', 'gender', 'job_title', 'salary']][ (df1['salary'].isnull()) | (df1['gender'].isnull()) ]"
   ]
  },
  {
   "cell_type": "code",
   "execution_count": null,
   "metadata": {},
   "outputs": [],
   "source": [
    "df1[df1.isnull().any(axis=1)]"
   ]
  },
  {
   "cell_type": "code",
   "execution_count": null,
   "metadata": {
    "scrolled": true
   },
   "outputs": [],
   "source": [
    "# Built in Function: all & any\n",
    "# Iterable : list, tuple, dict, set\n",
    "    \n",
    "l1 = [1, 'a', '', ' ']\n",
    "print(\"All:\", all(l1))\n",
    "\n",
    "for i in l1:\n",
    "    print(bool(i), end='\\t')"
   ]
  },
  {
   "cell_type": "code",
   "execution_count": null,
   "metadata": {},
   "outputs": [],
   "source": [
    "l1 = [1, 'a', '', ' ']\n",
    "print(\"Any:\", any(l1))\n",
    "\n",
    "for i in l1:\n",
    "    print(bool(i), end='\\t')"
   ]
  },
  {
   "cell_type": "code",
   "execution_count": null,
   "metadata": {},
   "outputs": [],
   "source": [
    "df1[df1.isnull().any(axis=1)]\n",
    "\n",
    "# def nan_records(df):\n",
    "#     return df[df.isnull().any(axis=1)]\n",
    "# nan_records(df_data)"
   ]
  },
  {
   "cell_type": "code",
   "execution_count": null,
   "metadata": {},
   "outputs": [],
   "source": [
    "df1.dropna()\n",
    "\n",
    "# df1.dropna(inplace=True)"
   ]
  },
  {
   "cell_type": "code",
   "execution_count": null,
   "metadata": {},
   "outputs": [],
   "source": [
    "# Row Based\n",
    "df1.dropna(axis=0)\n",
    "\n",
    "# df1.dropna(axis=0, inplace=True)"
   ]
  },
  {
   "cell_type": "code",
   "execution_count": null,
   "metadata": {},
   "outputs": [],
   "source": [
    "# Column Based\n",
    "df1.dropna(axis=1)\n",
    "\n",
    "# df1.dropna(axis=1, inplace=True)"
   ]
  },
  {
   "cell_type": "code",
   "execution_count": null,
   "metadata": {},
   "outputs": [],
   "source": [
    "df1.fillna(value=999)\n",
    "\n",
    "# df1.fillna(value=999, inplace=True)"
   ]
  },
  {
   "cell_type": "code",
   "execution_count": null,
   "metadata": {},
   "outputs": [],
   "source": [
    "# df1['gender'].fillna(value = 999)\n",
    "df1['gender'].fillna(value = 999, inplace=True)"
   ]
  },
  {
   "cell_type": "code",
   "execution_count": null,
   "metadata": {},
   "outputs": [],
   "source": [
    "df1"
   ]
  },
  {
   "cell_type": "code",
   "execution_count": null,
   "metadata": {},
   "outputs": [],
   "source": [
    "salary_mean = df1['salary'].mean()\n",
    "salary_median = df1['salary'].median()\n",
    "\n",
    "print('Average of Salary:', round(salary_mean, 2))\n",
    "print('Median of Salary:', round(salary_median, 2))"
   ]
  },
  {
   "cell_type": "code",
   "execution_count": null,
   "metadata": {},
   "outputs": [],
   "source": [
    "# df1.fillna(value = df1['salary'].mean())\n",
    "df1.fillna(value = df1['salary'].mean(), inplace=True)\n",
    "df1"
   ]
  },
  {
   "cell_type": "code",
   "execution_count": null,
   "metadata": {},
   "outputs": [],
   "source": [
    "df1[df1.isnull().any(axis=1)]"
   ]
  },
  {
   "cell_type": "code",
   "execution_count": null,
   "metadata": {},
   "outputs": [],
   "source": [
    "df1[ (df1['gender'].isna()) | (df1['salary'].isna())]"
   ]
  },
  {
   "cell_type": "code",
   "execution_count": null,
   "metadata": {},
   "outputs": [],
   "source": [
    "df_data[['job_title','salary']].groupby('job_title').agg(['size','min', 'max', 'mean', 'median'])"
   ]
  },
  {
   "cell_type": "code",
   "execution_count": null,
   "metadata": {},
   "outputs": [],
   "source": [
    "df_data[df_data.isnull().any(axis=1)]"
   ]
  },
  {
   "cell_type": "code",
   "execution_count": null,
   "metadata": {},
   "outputs": [],
   "source": [
    "job_list = df_data['job_title'] [df_data.isnull().any(axis=1)].tolist()\n",
    "\n",
    "df_data [ ( df_data['job_title']==job_list[0] )]['salary'].fillna(df_data['salary'] [ df_data['job_title']==job_list[0] ].mean())"
   ]
  },
  {
   "cell_type": "code",
   "execution_count": null,
   "metadata": {},
   "outputs": [],
   "source": [
    "df1"
   ]
  },
  {
   "cell_type": "markdown",
   "metadata": {},
   "source": [
    "### Apply Function"
   ]
  },
  {
   "cell_type": "code",
   "execution_count": null,
   "metadata": {},
   "outputs": [],
   "source": [
    "# map, appyly, applymap\n",
    "\n",
    "# Map: It iterates over each element of a series.\n",
    "# Apply: As the name suggests, applies a function along any axis of the DataFrame.\n",
    "# ApplyMap: This helps to apply a function to each element of dataframe.\n",
    "\n",
    "# Map\n",
    "# df['column1'].map(lambda x: 10 + x)\n",
    "# df['column2'].map(lambda x: 'AV' + x)\n",
    "\n",
    "# Apply()\n",
    "# df[['column1', 'column2']].apply(sum)\n",
    "\n",
    "# ApplyMap()\n",
    "# func = lambda x: x+2\n",
    "# df.applymap(func)"
   ]
  },
  {
   "cell_type": "code",
   "execution_count": null,
   "metadata": {},
   "outputs": [],
   "source": [
    "df10 = df1.copy()"
   ]
  },
  {
   "cell_type": "code",
   "execution_count": null,
   "metadata": {},
   "outputs": [],
   "source": [
    "# map()\n",
    "df10['job_title'].map(lambda x: 'JOBS:' + x)"
   ]
  },
  {
   "cell_type": "code",
   "execution_count": null,
   "metadata": {},
   "outputs": [],
   "source": [
    "def salary_raise(var, ratio=1.10):\n",
    "    return var*ratio"
   ]
  },
  {
   "cell_type": "code",
   "execution_count": null,
   "metadata": {},
   "outputs": [],
   "source": [
    "# apply()\n",
    "df10['salary_increase'] = df10['salary'].apply(salary_raise)\n",
    "df10"
   ]
  },
  {
   "cell_type": "code",
   "execution_count": null,
   "metadata": {},
   "outputs": [],
   "source": [
    "df10['salary_decrease'] = df10.apply(lambda c: c['salary'] * 0.9, axis=1)\n",
    "df10"
   ]
  },
  {
   "cell_type": "code",
   "execution_count": null,
   "metadata": {},
   "outputs": [],
   "source": [
    "# applymap()\n",
    "\n",
    "func_len = lambda x: len(str(x))\n",
    "\n",
    "# df10.applymap()\n",
    "\n",
    "df10[['name','job_title']].applymap(func_len)\n",
    "\n",
    "df10[['name_len','job_title_len']] = df10[['name','job_title']].applymap(func_len)\n",
    "\n",
    "df10.head(910)"
   ]
  },
  {
   "cell_type": "markdown",
   "metadata": {},
   "source": [
    "### Group By & Aggregation"
   ]
  },
  {
   "cell_type": "code",
   "execution_count": null,
   "metadata": {},
   "outputs": [],
   "source": [
    "df1.groupby('gender')"
   ]
  },
  {
   "cell_type": "code",
   "execution_count": null,
   "metadata": {},
   "outputs": [],
   "source": [
    "df1.groupby('gender').size()"
   ]
  },
  {
   "cell_type": "code",
   "execution_count": null,
   "metadata": {},
   "outputs": [],
   "source": [
    "df1.groupby('city').size()"
   ]
  },
  {
   "cell_type": "code",
   "execution_count": null,
   "metadata": {},
   "outputs": [],
   "source": [
    "df1.groupby('city')[['salary']].mean()"
   ]
  },
  {
   "cell_type": "code",
   "execution_count": null,
   "metadata": {},
   "outputs": [],
   "source": [
    "df1.groupby(['city','gender'])[['salary']].agg(['size', 'count', 'min', 'max', 'mean','sum','std','var'])"
   ]
  },
  {
   "cell_type": "code",
   "execution_count": null,
   "metadata": {},
   "outputs": [],
   "source": [
    "df1.groupby('gender').describe()"
   ]
  },
  {
   "cell_type": "code",
   "execution_count": null,
   "metadata": {},
   "outputs": [],
   "source": [
    "df1.groupby('gender').describe().T\n",
    "\n",
    "# df_data.groupby('sex').describe().transpose()"
   ]
  },
  {
   "cell_type": "markdown",
   "metadata": {},
   "source": [
    "### Concatenate\n",
    "    * Concat\n",
    "    * Join\n",
    "    * Merge"
   ]
  },
  {
   "cell_type": "code",
   "execution_count": null,
   "metadata": {},
   "outputs": [],
   "source": [
    "data1 = pd.DataFrame({'X1':['a', 'b', 'c'],\n",
    "                      'X2':[11.432, 1.303, 99.906]},\n",
    "                    index=[0,1,2])\n",
    "\n",
    "\n",
    "data2 = pd.DataFrame({'X1':['a', 'b', 'd'],\n",
    "                      'X3':[20.784, np.nan, 20.784]},\n",
    "                    index=[0,1,3])"
   ]
  },
  {
   "cell_type": "code",
   "execution_count": null,
   "metadata": {},
   "outputs": [],
   "source": [
    "display( data1, data2 )"
   ]
  },
  {
   "cell_type": "code",
   "execution_count": null,
   "metadata": {},
   "outputs": [],
   "source": [
    "# Concat Row Based\n",
    "\n",
    "display ( pd.concat([data1, data2], axis=0, ignore_index=True) )"
   ]
  },
  {
   "cell_type": "code",
   "execution_count": null,
   "metadata": {},
   "outputs": [],
   "source": [
    "display ( pd.concat([data1, data2], axis=1, ignore_index=True) )"
   ]
  },
  {
   "cell_type": "code",
   "execution_count": null,
   "metadata": {},
   "outputs": [],
   "source": [
    "# Merge Inner Join\n",
    "\n",
    "display (pd.merge(data1, data2, how='inner', on='X1'))"
   ]
  },
  {
   "cell_type": "code",
   "execution_count": null,
   "metadata": {},
   "outputs": [],
   "source": [
    "# Merge Full Outer Join\n",
    "\n",
    "display( pd.merge(data1, data2, how='outer', on='X1') )"
   ]
  },
  {
   "cell_type": "code",
   "execution_count": null,
   "metadata": {},
   "outputs": [],
   "source": [
    "# Merge Left Outer Join\n",
    "\n",
    "display( pd.merge(data1, data2, how='left', on='X1') )"
   ]
  },
  {
   "cell_type": "code",
   "execution_count": null,
   "metadata": {},
   "outputs": [],
   "source": [
    "# Merge Right Outer Join\n",
    "\n",
    "display( pd.merge(data1, data2, how='right', on='X1') )"
   ]
  },
  {
   "cell_type": "code",
   "execution_count": null,
   "metadata": {},
   "outputs": [],
   "source": [
    "# Concat"
   ]
  },
  {
   "cell_type": "markdown",
   "metadata": {},
   "source": [
    "### Concat"
   ]
  },
  {
   "cell_type": "code",
   "execution_count": null,
   "metadata": {},
   "outputs": [],
   "source": [
    "df1"
   ]
  },
  {
   "cell_type": "code",
   "execution_count": null,
   "metadata": {},
   "outputs": [],
   "source": [
    "df2 = df_data = pd.read_csv('./Garbage/Person1_2.csv', sep=',')"
   ]
  },
  {
   "cell_type": "code",
   "execution_count": null,
   "metadata": {},
   "outputs": [],
   "source": [
    "df2"
   ]
  },
  {
   "cell_type": "code",
   "execution_count": null,
   "metadata": {},
   "outputs": [],
   "source": [
    "df1.columns"
   ]
  },
  {
   "cell_type": "code",
   "execution_count": null,
   "metadata": {},
   "outputs": [],
   "source": [
    "df2.columns"
   ]
  },
  {
   "cell_type": "code",
   "execution_count": null,
   "metadata": {},
   "outputs": [],
   "source": [
    "df3 = pd.concat([df1, df2], ignore_index=True)"
   ]
  },
  {
   "cell_type": "code",
   "execution_count": null,
   "metadata": {},
   "outputs": [],
   "source": [
    "df3"
   ]
  },
  {
   "cell_type": "markdown",
   "metadata": {},
   "source": [
    "## Merge"
   ]
  },
  {
   "cell_type": "code",
   "execution_count": null,
   "metadata": {},
   "outputs": [],
   "source": [
    "p_details = pd.read_csv('./Garbage/Person1_3.csv', sep=',')\n",
    "p_details"
   ]
  },
  {
   "cell_type": "code",
   "execution_count": null,
   "metadata": {},
   "outputs": [],
   "source": [
    "# Inner Join\n",
    "\n",
    "# df4 = pd.merge(df3, p_details, how='inner', on='id')\n",
    "df4 = pd.merge(df3, p_details, how='inner', left_on=\"id\", right_on=\"pid\")\n",
    "\n",
    "df4"
   ]
  },
  {
   "cell_type": "code",
   "execution_count": null,
   "metadata": {},
   "outputs": [],
   "source": [
    "# Outer Join\n",
    "\n",
    "# df5_1 = pd.merge(df3, p_details, how='left', on=['id'])\n",
    "df5_1 = pd.merge(df3, p_details, how='left', left_on='id', right_on='pid')\n",
    "df5_1"
   ]
  },
  {
   "cell_type": "code",
   "execution_count": null,
   "metadata": {},
   "outputs": [],
   "source": [
    "# df5_2 = pd.merge(df3, p_details, how='right', on='id')\n",
    "df5_2 = pd.merge(df3, p_details, how='right', left_on='id', right_on='pid')\n",
    "df5_2"
   ]
  },
  {
   "cell_type": "code",
   "execution_count": null,
   "metadata": {},
   "outputs": [],
   "source": [
    "df5_2.to_csv('./Garbage/PersonData.csv', index=False)"
   ]
  },
  {
   "cell_type": "code",
   "execution_count": null,
   "metadata": {},
   "outputs": [],
   "source": []
  },
  {
   "cell_type": "code",
   "execution_count": null,
   "metadata": {},
   "outputs": [],
   "source": []
  }
 ],
 "metadata": {
  "kernelspec": {
   "display_name": "Python 3",
   "language": "python",
   "name": "python3"
  },
  "language_info": {
   "codemirror_mode": {
    "name": "ipython",
    "version": 3
   },
   "file_extension": ".py",
   "mimetype": "text/x-python",
   "name": "python",
   "nbconvert_exporter": "python",
   "pygments_lexer": "ipython3",
   "version": "3.7.7"
  }
 },
 "nbformat": 4,
 "nbformat_minor": 4
}
