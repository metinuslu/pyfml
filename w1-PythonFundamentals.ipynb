{
 "cells": [
  {
   "cell_type": "markdown",
   "metadata": {
    "colab_type": "text",
    "id": "FSPDQrlU674-"
   },
   "source": [
    "# <center>Makine Öğrenmesi için Python</center>\n",
    "___"
   ]
  },
  {
   "cell_type": "markdown",
   "metadata": {
    "colab_type": "text",
    "id": "r9kM6ZMo675H"
   },
   "source": [
    "## Python Nedir?\n",
    "- Özgür Yazılım (Açık Kaynak)\n",
    "- Dil Tasarımı: 1991 yılında Hollandalı Programcı [**Guido van Rossum**](https://gvanrossum.github.io/)\n",
    "- Adı: İngiliz Komedi Grubu “The Monty Python” ait “Monty Python’s Flying Circus”\n",
    "- Telaffuz: Paytın\n",
    "- Yüksek Seviyeli\n",
    "- Geliştirici: [**Python Software Foundation (PSF)**](https://www.python.org/psf/)"
   ]
  },
  {
   "cell_type": "markdown",
   "metadata": {},
   "source": [
    "### Bazı Özellikleri\n",
    "\n",
    "- Interpreted (Yorumlanan) Dil\n",
    "- Dinamik Tip Tanımlı\n",
    "- Zero Based Dil\n",
    "- Basit Söz Dizimi\n",
    "- Girintilere Dayalı\n",
    "- Güçlü Veri Yapısı\n",
    "- Batteries Included (Fazla sayıda modül içeren standart kütüphane)\n",
    "- Fonksiyonel (Functional) ve Nesneye Dayalı Programlama (OOP)\n",
    "- Çoklu Platform Desteği (GNU/Linux, Windows, Mac OS)"
   ]
  },
  {
   "cell_type": "markdown",
   "metadata": {},
   "source": [
    "### Kimler Kullanıyor?\n",
    "- Google\n",
    "- Amazon\n",
    "- Yahoo\n",
    "- Facebook\n",
    "- Instagram\n",
    "- Spotify\n",
    "- Netflix\n",
    "- Dropbox\n",
    "- Wikipedia\n",
    "- Cern\n",
    "- NASA\n",
    "- Reddit\n",
    "- Quora\n",
    "\n",
    "Source: [**Real Python**](https://realpython.com/world-class-companies-using-python/)"
   ]
  },
  {
   "cell_type": "markdown",
   "metadata": {},
   "source": [
    "### Neden Python\n",
    "\n",
    "Python programlama dili, veri analizi, veri bilimi, makine öğrenmesi ve derin öğrenme gibi popüler alanlarda oldukça fazla kullanım alanı bulmaktadır. Bu eğitimde **Makine Öğrenmesi için Python** eğitimini almış olacaksınız.\n",
    "\n",
    "\n",
    "- [Tiobe Index](https://www.tiobe.com/tiobe-index/)\n",
    "- [IEEE Spectrum](https://spectrum.ieee.org/static/interactive-the-top-programming-languages-2019) \n",
    "- [PYPL PopularitY of Programming Language](http://pypl.github.io/PYPL.html)\n",
    "- [Stackoverflow Trends](https://insights.stackoverflow.com/trends?tags=r%2Cstatistics)"
   ]
  },
  {
   "cell_type": "markdown",
   "metadata": {},
   "source": [
    "### Kurulum\n",
    "\n",
    "1.\tPython\n",
    "2.\t`Anaconda Distribution (Python, Spyder, Conda Package Managment, Jupyter, Jupyter Lab)`\n",
    "3.\t`PyCharm (Integrated Environment Development IDE)`\n",
    "4.\t`Notepad++ (Text Editor)`\n",
    "5.\tSublime (Text Editör)\n"
   ]
  },
  {
   "cell_type": "markdown",
   "metadata": {},
   "source": [
    "### Content\n",
    "____\n",
    "\n",
    "* [Python Version](#Python-Version)\n",
    "\n",
    "* [The Zen of Python](#The-Zen-of-Python)\n",
    "\n",
    "* [Reserved Keyword List](#Reserved-Keyword-List)\n",
    "\n",
    "* [Comments & Identation & Case Sensitive](#Comments,-Identation,-Case-Sentitive)\n",
    "\n",
    "* [name and main function()](#name-and-main-function())\n",
    "\n",
    "* [Package Managment](#Package-Managment)\n",
    "    * [Pip](#Pip)\n",
    "    * [Conda](#Conda)\n",
    "    \n",
    "* [Print Fonksiyonu](#Print-Fonksiyonu)\n",
    "\n",
    "* [Help Fonksiyonu](#Help-Fonksiyonu)\n",
    "\n",
    "* [Değişkenler](#Değişkenler)\n",
    "\n",
    "* [Veri Tipleri](#Veri-Tipleri)\n",
    "    * Numbers\n",
    "        * int\n",
    "        * float\n",
    "        * complex\n",
    "    * String\n",
    "        * string\n",
    "    * Boolean\n",
    "        * bool\n",
    "    \n",
    "* [Veri Yapıları](#Veri-Yapıları)\n",
    "    * [Lists []](#List-Veri-Yapısı)\n",
    "    * [Tuples ()](#Tuple-Veri-Yapısı)\n",
    "    * [Dictionary {}](#Dictionary-Veri-Yapısı)\n",
    "    * [Sets {}](#Set-Veri-Yapısı)\n",
    "    \n",
    "* [Tip Dönüşümleri](#Tip-Dönüşümleri)\n",
    "    * int()\n",
    "    * float()\n",
    "    * string()\n",
    "    * bool()\n",
    "    * list()\n",
    "    * tuple()\n",
    "    * set()\n",
    "    \n",
    "* [Comprehension](#Comprehension)   \n",
    "    * [List Comprehension](#List-Comprehension)\n",
    "    * [Tuple Comprehension](#Tuple-Comprehension)\n",
    "    * [Dictionary Comprehension](#Dictionary-Comprehension)\n",
    "\n",
    "* [Operatorler (İşleçler)](#Operatörler)\n",
    "    * Aritmetik     * (+, - , * , /, //, %, **)\n",
    "    * Karşılaştırma (==, !=, <, >, <=, >=)\n",
    "    * Değer Atama (=)\n",
    "    * Mantıksal (and, or, not)\n",
    "    * Aitlik (in)\n",
    "    * Kimlik (id)\n",
    "\n",
    "* [Fonksiyonlar](#Fonksiyonlar)\n",
    "    * [Built-in Fonksiyonlar](#Built-in-Fonksiyonlar)\n",
    "        \n",
    "    * [User Defined Function](#User-Defined-Function)  \n",
    "    \n",
    "    * [`*args` ve `**kwargs` Kullanımı](#*args-ve-**kwargs-Kullanımı)\n",
    "        \n",
    "    * [Lambda Fonksiyonlar](#Lambda-Fonksiyonlar)    \n",
    "    * [Map Function](#Map-Function)\n",
    "    * [Filter Function](#Filter-Function)\n",
    "    * [Reduce Function](#Reduce-Function)\n",
    "    \n",
    "* [Koşul Deyimleri ve Döngüler](#Koşul-Deyimleri-ve-Döngüler)\n",
    "\t* [Koşul Deyimleri](#Koşul-Deyimleri)\n",
    "\t\t* [If](#if)\n",
    "\t\t* [If Else](#if-else)\n",
    "\t\t* [If Elif Else](#if-elif-else)\n",
    "        \n",
    "\t* [Döngüler](#Döngüler)\n",
    "\t\t* [For](#For)\n",
    "\t\t* [While](#While)\n",
    "        \n",
    "\t* [Break, Pass, Continue](#Break,-Pass,-Continue)\n",
    "    \n",
    "* [Hata Yakalama](#Hata-Yakalama)\n",
    "    * [Hata Türleri](#Hata-Türleri)\n",
    "    * Programcı Hataları(Error)\n",
    "    * Program Kusurları(Bug)\n",
    "    * [İstisnalar](Exception)\n",
    "        * [Try Except](#Try-Except)\n",
    "        * [Try Except As](#Try-Except-Else)\n",
    "        * [Try Except Else](#Try-Except-Else-As)\n",
    "        * [Try Except Finally](#Try-Except-Finally)\n",
    "        * [Raise](#Raise)\n",
    "\n",
    "* [Dosya İşlemleri](#Dosya-İşlemleri)\n",
    "\n",
    "* [Moduller](#Moduller)\n",
    "\n",
    "    * [Built-in Moduller](#Built-in-Moduller)\n",
    "        * [os](#os-Modulu)\n",
    "\t\t* [sys](#sys-Modulu)\n",
    "        * [random](#random-Modulu)\n",
    "        * [datetime](#datetime-Modulu)\n",
    "        * [time](#time-Modulu)\n",
    "        * [subprocess](#subprocess-Modulu)\n",
    "        * [gc](#gc-Modulu)\n",
    "        * [tqdm](#tqdm-Modulu)\n",
    "        * [pickle](#Pickle-Modulu)\n",
    "        * [argparse](#argparse-Modulu)\n",
    "        * [toaster](#toaster-Modulu)\n",
    "        \n",
    "    * [User Defined Moduller](#User-Defined-Moduller)\n",
    "    \n",
    "\t* [Third Party Moduller](#Third-Party-Moduller)\n",
    "\t\t* NumPy\n",
    "\t\t* Pandas\n",
    "        * SciPy\n",
    "        * Matplotlib & Seaborn & Plotly & Bokeh\n",
    "\n",
    "* [Referanslar](#Referanslar)\n",
    "\n",
    "____"
   ]
  },
  {
   "cell_type": "markdown",
   "metadata": {},
   "source": [
    "### Python Version"
   ]
  },
  {
   "cell_type": "code",
   "execution_count": null,
   "metadata": {},
   "outputs": [],
   "source": [
    "!python --version"
   ]
  },
  {
   "cell_type": "code",
   "execution_count": null,
   "metadata": {},
   "outputs": [],
   "source": [
    "!python -V"
   ]
  },
  {
   "cell_type": "markdown",
   "metadata": {},
   "source": [
    "### The Zen of Python"
   ]
  },
  {
   "cell_type": "code",
   "execution_count": null,
   "metadata": {},
   "outputs": [],
   "source": [
    "!python -c \"import this\""
   ]
  },
  {
   "cell_type": "markdown",
   "metadata": {},
   "source": [
    "1. Beautiful is better than ugly.\n",
    "\n",
    "2. Explicit is better than implicit.\n",
    "\n",
    "3. Simple is better than complex.\n",
    "\n",
    "4. Complex is better than complicated.\n",
    "\n",
    "5. Flat is better than nested.\n",
    "\n",
    "..."
   ]
  },
  {
   "cell_type": "markdown",
   "metadata": {},
   "source": [
    "### Reserverd Keyword List"
   ]
  },
  {
   "cell_type": "code",
   "execution_count": null,
   "metadata": {},
   "outputs": [],
   "source": [
    "import keyword\n",
    "print(keyword.kwlist)"
   ]
  },
  {
   "cell_type": "markdown",
   "metadata": {},
   "source": [
    "### Comments, Indentation, Case Sentitive"
   ]
  },
  {
   "cell_type": "markdown",
   "metadata": {},
   "source": [
    "#### Comments"
   ]
  },
  {
   "cell_type": "code",
   "execution_count": null,
   "metadata": {},
   "outputs": [],
   "source": [
    "print(\"Hello, World!\")"
   ]
  },
  {
   "cell_type": "code",
   "execution_count": null,
   "metadata": {},
   "outputs": [],
   "source": [
    "'''\n",
    "This is a multiline\n",
    "comment.\n",
    "'''\n",
    "\n",
    "print(\"Hello, World!\")"
   ]
  },
  {
   "cell_type": "code",
   "execution_count": null,
   "metadata": {},
   "outputs": [],
   "source": [
    "\"\"\"\n",
    "This is a comment\n",
    "written in\n",
    "more than just one line\n",
    "\"\"\"\n",
    "\n",
    "print(\"Hello, World!\")"
   ]
  },
  {
   "cell_type": "markdown",
   "metadata": {},
   "source": [
    "#### Indentation: \n",
    "    * Tab ya da 4 whitespace"
   ]
  },
  {
   "cell_type": "code",
   "execution_count": null,
   "metadata": {},
   "outputs": [],
   "source": [
    "for i in range(5):\n",
    "    print(i)"
   ]
  },
  {
   "cell_type": "markdown",
   "metadata": {},
   "source": [
    "#### Case Sentitive"
   ]
  },
  {
   "cell_type": "code",
   "execution_count": null,
   "metadata": {},
   "outputs": [],
   "source": [
    "v1 = 'Merhaba Waikiki'\n",
    "print(V1)"
   ]
  },
  {
   "cell_type": "markdown",
   "metadata": {},
   "source": [
    "### name and main function()"
   ]
  },
  {
   "cell_type": "code",
   "execution_count": null,
   "metadata": {},
   "outputs": [],
   "source": [
    "def greetings(name='Lc Waikiki'):\n",
    "    print(\"Merhaba {} :-)\".format(name))\n",
    "    \n",
    "if __name__ == '__main__':\n",
    "    greetings()\n",
    "\n",
    "# greetings()"
   ]
  },
  {
   "cell_type": "markdown",
   "metadata": {},
   "source": [
    "### Package Managment"
   ]
  },
  {
   "cell_type": "markdown",
   "metadata": {},
   "source": [
    "#### Pip"
   ]
  },
  {
   "cell_type": "markdown",
   "metadata": {},
   "source": [
    "**Pip Help:** pip -h\n",
    "\n",
    "**Paket Kurulumu:** pip install package    **or**    pip install package==x.y.z\n",
    "\n",
    "**Proxy Kullanarak Paket Kurulumu:** pip install --proxy http://128.128.5.100 package\n",
    "\n",
    "**Paket Kaldırma:** pip uninstall package\n",
    "\n",
    "**Paket Hakkında Bilgi:**\" pip show pandas\n",
    "\n",
    "**Paketleri Listeleme:** pip list\n",
    "\n",
    "**Paketler için Requirement File Oluşturma:** pip freeze > requirement.txt\n",
    "\n",
    "**Pip Install Requirenmet File:** pip install -r requirement.txt"
   ]
  },
  {
   "cell_type": "code",
   "execution_count": null,
   "metadata": {},
   "outputs": [],
   "source": [
    "# Jupyter Notebook Üzerinde Çalıştırma\n",
    "\n",
    "! pip install pandas numpy, scikit-learn"
   ]
  },
  {
   "cell_type": "markdown",
   "metadata": {},
   "source": [
    "#### Conda"
   ]
  },
  {
   "cell_type": "markdown",
   "metadata": {},
   "source": [
    "**Conda Update:** conda update conda\n",
    "\n",
    "**Anaconda Update:** conda update anaconda\n",
    "___\n",
    "\n",
    "**Conda Config:** conda config\n",
    "\n",
    "**Conda Config:** conda config --show\n",
    "___\n",
    "\n",
    "**Environment Listeleme:** conda env list\n",
    "\n",
    "**Environmet Create:** conda create --name=lcw_env python=3.8\n",
    "\n",
    "**Activate:** conda activate lcw_env\n",
    "\n",
    "**Environemet Remove:** conda env remove --name lcw_env    **or**    conda env remove -n lcw_env \n",
    "___\n",
    "\n",
    "**Paket Kurulumu:** conda install package  \n",
    "\n",
    "**Paket Kaldırma:** conda uninstall package"
   ]
  },
  {
   "cell_type": "markdown",
   "metadata": {},
   "source": [
    "### Help Fonksiyonu"
   ]
  },
  {
   "cell_type": "code",
   "execution_count": null,
   "metadata": {},
   "outputs": [],
   "source": [
    "help(print)"
   ]
  },
  {
   "cell_type": "markdown",
   "metadata": {},
   "source": [
    "### Print Fonksiyonu"
   ]
  },
  {
   "cell_type": "code",
   "execution_count": null,
   "metadata": {},
   "outputs": [],
   "source": [
    "print('Tek Tırnak: Python Programlama Dili')\n",
    "\n",
    "print(\"Çift Tırnak: Python Programlama Dili\")\n",
    "\n",
    "print(\"\"\"Satır 1\n",
    "Satır 2\n",
    "Satır 3\n",
    "Satır 4\"\"\")"
   ]
  },
  {
   "cell_type": "code",
   "execution_count": null,
   "metadata": {},
   "outputs": [],
   "source": [
    "x, y = 5, 7\n",
    "\n",
    "print(x, 've', y)\n",
    "\n",
    "print(\"{} ve {}\".format(x,y))\n",
    "\n",
    "print(\"\"\"%d ve %d\"\"\" % (x, y))"
   ]
  },
  {
   "cell_type": "markdown",
   "metadata": {},
   "source": [
    "### Değişkenler"
   ]
  },
  {
   "cell_type": "code",
   "execution_count": null,
   "metadata": {},
   "outputs": [],
   "source": [
    "x = y = 4\n",
    "print(x, y)"
   ]
  },
  {
   "cell_type": "code",
   "execution_count": null,
   "metadata": {},
   "outputs": [],
   "source": [
    "x, y, z = 2, 3, \"İstanbul\"\n",
    "print(x, y, z)"
   ]
  },
  {
   "cell_type": "code",
   "execution_count": null,
   "metadata": {},
   "outputs": [],
   "source": [
    "[x, y, z] = [2, 3, \"Ankara\"]\n",
    "print(x, y, z)"
   ]
  },
  {
   "cell_type": "code",
   "execution_count": null,
   "metadata": {},
   "outputs": [],
   "source": [
    "ali = 20; veli = 25;\n",
    "\n",
    "ali, veli = veli, ali\n",
    "\n",
    "print(ali, veli)"
   ]
  },
  {
   "cell_type": "markdown",
   "metadata": {},
   "source": [
    "### Veri Tipleri & Veri Yapıları & Tip Dönüşümleri"
   ]
  },
  {
   "cell_type": "markdown",
   "metadata": {},
   "source": [
    "#### Veri Tipleri"
   ]
  },
  {
   "cell_type": "markdown",
   "metadata": {},
   "source": [
    "#### Number: int, float, complex"
   ]
  },
  {
   "cell_type": "code",
   "execution_count": null,
   "metadata": {},
   "outputs": [],
   "source": [
    "v1 = 5\n",
    "print(v1)\n",
    "print(type(v1))"
   ]
  },
  {
   "cell_type": "code",
   "execution_count": null,
   "metadata": {},
   "outputs": [],
   "source": [
    "v2_1 = 5.78\n",
    "v2_2 = 75e-2\n",
    "\n",
    "print(v2_1)\n",
    "print(type(v2_1))\n",
    "\n",
    "print(v2_2)\n",
    "print(type(v2_2))"
   ]
  },
  {
   "cell_type": "code",
   "execution_count": null,
   "metadata": {},
   "outputs": [],
   "source": [
    "v3 = 10+7j\n",
    "print(v3)\n",
    "print(type(v3))"
   ]
  },
  {
   "cell_type": "markdown",
   "metadata": {},
   "source": [
    "#### String: str"
   ]
  },
  {
   "cell_type": "code",
   "execution_count": null,
   "metadata": {},
   "outputs": [],
   "source": [
    "s1 = 'Hello'\n",
    "s2 = 'LC Waikiki'\n",
    "s3 = 'Turkey'\n",
    "\n",
    "print(s1, s2, s3)\n",
    "\n",
    "print(type(s1), type(s2))"
   ]
  },
  {
   "cell_type": "code",
   "execution_count": null,
   "metadata": {},
   "outputs": [],
   "source": [
    "#Single Quotes\n",
    "s4 = 'Single Quotes Sample'\n",
    "print(s4)\n",
    "print(type(s4))\n",
    "\n",
    "print()\n",
    "\n",
    "#Double Quotes\n",
    "s5 = \"Double Quotes Sample\"\n",
    "print(s5)\n",
    "print(type(s5))\n",
    "\n",
    "print()\n",
    "\n",
    "#Triple Quoted\n",
    "s6 = '''Triple\n",
    "Quoted\n",
    "Sample\n",
    "'''\n",
    "print(s6)\n",
    "print(type(s6))"
   ]
  },
  {
   "cell_type": "code",
   "execution_count": null,
   "metadata": {},
   "outputs": [],
   "source": [
    "#Empty String\n",
    "s7 = ''\n",
    "print(s7)\n",
    "print(type(s7))"
   ]
  },
  {
   "cell_type": "code",
   "execution_count": null,
   "metadata": {},
   "outputs": [],
   "source": [
    "#Some Strings Methods\n",
    "\n",
    "#capitalize(), title(), lower(), islower(), upper(), isupper(), len(), strip(), lstrip() rstrip(), replace()i split()"
   ]
  },
  {
   "cell_type": "code",
   "execution_count": null,
   "metadata": {},
   "outputs": [],
   "source": [
    "help(str.capitalize)"
   ]
  },
  {
   "cell_type": "markdown",
   "metadata": {},
   "source": [
    "#### Boolean: bool"
   ]
  },
  {
   "cell_type": "code",
   "execution_count": null,
   "metadata": {},
   "outputs": [],
   "source": [
    "b1, b2 = True, False\n",
    "\n",
    "print(b1, b2)\n",
    "print(type(b1), type(b2))"
   ]
  },
  {
   "cell_type": "code",
   "execution_count": null,
   "metadata": {},
   "outputs": [],
   "source": [
    "1 == 1"
   ]
  },
  {
   "cell_type": "code",
   "execution_count": null,
   "metadata": {},
   "outputs": [],
   "source": [
    "1 == 0"
   ]
  },
  {
   "cell_type": "code",
   "execution_count": null,
   "metadata": {},
   "outputs": [],
   "source": [
    "n = 'Ali'\n",
    "\n",
    "print( n == 'Ali' )"
   ]
  },
  {
   "cell_type": "code",
   "execution_count": null,
   "metadata": {},
   "outputs": [],
   "source": [
    "n = 'Ali'\n",
    "\n",
    "print( n == 'ali' )"
   ]
  },
  {
   "cell_type": "markdown",
   "metadata": {},
   "source": [
    "### Veri Yapıları"
   ]
  },
  {
   "cell_type": "markdown",
   "metadata": {},
   "source": [
    "#### List Veri Yapısı\n",
    "\n",
    "Listeler Python’un en esnek sıralı toplama nesnesi türüdür.   \n",
    "Ayrıca herhangi bir tür, sayı, harf, dize ve iç içe liste nesnesini barındırabilen sıralı bir nesne koleksiyonu olan bir dizi olarak da ifade edilebilir."
   ]
  },
  {
   "cell_type": "code",
   "execution_count": null,
   "metadata": {},
   "outputs": [],
   "source": [
    "v_list = ['Yavuz', 35, 'Tufan', 32, 'Berk', 29]\n",
    "\n",
    "print(v_list)\n",
    "print(type(v_list))"
   ]
  },
  {
   "cell_type": "code",
   "execution_count": null,
   "metadata": {},
   "outputs": [],
   "source": [
    "# Empty List\n",
    "\n",
    "l = []\n",
    "print(type(l))"
   ]
  },
  {
   "cell_type": "code",
   "execution_count": null,
   "metadata": {},
   "outputs": [],
   "source": [
    "l1 = ['a', 'b', 'c', 'd', 'e']\n",
    "l2 = [2, 7, 5, 3, 23, 19, 17, 13]"
   ]
  },
  {
   "cell_type": "code",
   "execution_count": null,
   "metadata": {},
   "outputs": [],
   "source": [
    "len(l1)"
   ]
  },
  {
   "cell_type": "code",
   "execution_count": null,
   "metadata": {},
   "outputs": [],
   "source": [
    "l1[0]"
   ]
  },
  {
   "cell_type": "code",
   "execution_count": null,
   "metadata": {},
   "outputs": [],
   "source": [
    "l1[0 : 2]"
   ]
  },
  {
   "cell_type": "code",
   "execution_count": null,
   "metadata": {},
   "outputs": [],
   "source": [
    "l1[-1]"
   ]
  },
  {
   "cell_type": "code",
   "execution_count": null,
   "metadata": {},
   "outputs": [],
   "source": [
    "l1[-3 : -1]"
   ]
  },
  {
   "cell_type": "code",
   "execution_count": null,
   "metadata": {},
   "outputs": [],
   "source": [
    "l1.extend(l2)\n",
    "l1"
   ]
  },
  {
   "cell_type": "code",
   "execution_count": null,
   "metadata": {},
   "outputs": [],
   "source": [
    "l1.append(100)\n",
    "l1"
   ]
  },
  {
   "cell_type": "code",
   "execution_count": null,
   "metadata": {},
   "outputs": [],
   "source": [
    "l1.insert(0, 'Ali')\n",
    "l1"
   ]
  },
  {
   "cell_type": "code",
   "execution_count": null,
   "metadata": {},
   "outputs": [],
   "source": [
    "l1.index('Ali')"
   ]
  },
  {
   "cell_type": "code",
   "execution_count": null,
   "metadata": {},
   "outputs": [],
   "source": [
    "l1.remove('a')\n",
    "l1"
   ]
  },
  {
   "cell_type": "code",
   "execution_count": null,
   "metadata": {},
   "outputs": [],
   "source": [
    "help(list.count)"
   ]
  },
  {
   "cell_type": "code",
   "execution_count": null,
   "metadata": {},
   "outputs": [],
   "source": [
    "l1.count('Ali')"
   ]
  },
  {
   "cell_type": "code",
   "execution_count": null,
   "metadata": {},
   "outputs": [],
   "source": [
    "print(l1)\n",
    "\n",
    "del l1[0]\n",
    "\n",
    "print(l1)"
   ]
  },
  {
   "cell_type": "code",
   "execution_count": null,
   "metadata": {},
   "outputs": [],
   "source": [
    "# del l1\n",
    "# print(l1)"
   ]
  },
  {
   "cell_type": "code",
   "execution_count": null,
   "metadata": {},
   "outputs": [],
   "source": [
    "l1.pop()\n",
    "l1"
   ]
  },
  {
   "cell_type": "code",
   "execution_count": null,
   "metadata": {},
   "outputs": [],
   "source": [
    "l2.sort()\n",
    "l2"
   ]
  },
  {
   "cell_type": "code",
   "execution_count": null,
   "metadata": {},
   "outputs": [],
   "source": [
    "l2.sort(reverse=True)\n",
    "l2"
   ]
  },
  {
   "cell_type": "code",
   "execution_count": null,
   "metadata": {},
   "outputs": [],
   "source": [
    "#Some List Function\n",
    "\n",
    "#min(), max(), len(), append(), extend(), remove(), pop(), sort(), count()"
   ]
  },
  {
   "cell_type": "code",
   "execution_count": null,
   "metadata": {},
   "outputs": [],
   "source": [
    "# List of List\n",
    "\n",
    "l3 = [ 1, 2, 3, ['Metin','Ali','Feyyaz'] ]\n",
    "\n",
    "print(l3[0])\n",
    "print(l3[1])\n",
    "print(l3[2])\n",
    "print(l3[0:3])\n",
    "\n",
    "print(l3[3])\n",
    "print(l3[3][0])\n",
    "print(l3[3][1])\n",
    "print(l3[3][2])\n",
    "\n",
    "print(type(l3))\n",
    "print(type(l3[0]))\n",
    "print(type(l3[3][0]))"
   ]
  },
  {
   "cell_type": "code",
   "execution_count": null,
   "metadata": {},
   "outputs": [],
   "source": [
    "# Dictionary of List\n",
    "\n",
    "l4 = [1, 2, 3,\n",
    "      {'Person':['Ali', 'Ayşe', 'Mete']}, \n",
    "      {'Age':[25, 22, 1]} ]\n",
    "\n",
    "print(l4[0])\n",
    "print(l4[1])\n",
    "print(l4[0])\n",
    "print(l4[0:3])\n",
    "\n",
    "print(type(l4))"
   ]
  },
  {
   "cell_type": "code",
   "execution_count": null,
   "metadata": {},
   "outputs": [],
   "source": [
    "# Dictionary of List\n",
    "\n",
    "print(l4[3])\n",
    "print(l4[3]['Person'])\n",
    "print(type(l4[3]))\n",
    "\n",
    "print(l4[4])\n",
    "print(l4[4]['Age'])\n",
    "print(type(l4[4]))"
   ]
  },
  {
   "cell_type": "markdown",
   "metadata": {},
   "source": [
    "#### Tuple Veri Yapısı\n",
    "\n",
    "Tuple, bir dizi heterojen elementi tutan bir koleksiyon tipidir\n",
    "\n",
    "Tuple, değişmez veri yapısına sahiptir."
   ]
  },
  {
   "cell_type": "code",
   "execution_count": null,
   "metadata": {},
   "outputs": [],
   "source": [
    "v_t = ('Ali', 34, 'Mehmet', 15)\n",
    "\n",
    "print(v_t)\n",
    "print(type(v_t))"
   ]
  },
  {
   "cell_type": "code",
   "execution_count": null,
   "metadata": {},
   "outputs": [],
   "source": [
    "# Empty Tuple\n",
    "\n",
    "t1 = ()\n",
    "print(type(t1))"
   ]
  },
  {
   "cell_type": "code",
   "execution_count": null,
   "metadata": {},
   "outputs": [],
   "source": [
    "t1 = 33, 35, 37\n",
    "\n",
    "print(t1)\n",
    "print(type(t1))"
   ]
  },
  {
   "cell_type": "code",
   "execution_count": null,
   "metadata": {},
   "outputs": [],
   "source": [
    "# Tuple of Tuple\n",
    "\n",
    "t2 = ( 0, 1, (2, 3), ('a','b', 'c'), ('A', 'B', 'C'))\n",
    "\n",
    "print(type(t2))\n",
    "\n",
    "t2[0:2]"
   ]
  },
  {
   "cell_type": "code",
   "execution_count": null,
   "metadata": {},
   "outputs": [],
   "source": [
    "print(t2[2][1])\n",
    "\n",
    "print(t2[3][2])\n",
    "\n",
    "print(t2[4][2])"
   ]
  },
  {
   "cell_type": "code",
   "execution_count": null,
   "metadata": {},
   "outputs": [],
   "source": [
    "len(t2)"
   ]
  },
  {
   "cell_type": "markdown",
   "metadata": {},
   "source": [
    "#### Dictionary Veri Yapısı\n",
    "\n",
    "Dictionary, **key:value** olarak verileri tutan nesnelerdir."
   ]
  },
  {
   "cell_type": "code",
   "execution_count": null,
   "metadata": {},
   "outputs": [],
   "source": [
    "v_d = {'Name':['Ali','Mehmet', 'Ayşe'], 'Age':34}\n",
    "print(v_d)\n",
    "print(type(v_d))"
   ]
  },
  {
   "cell_type": "code",
   "execution_count": null,
   "metadata": {},
   "outputs": [],
   "source": [
    "v_d.keys()"
   ]
  },
  {
   "cell_type": "code",
   "execution_count": null,
   "metadata": {},
   "outputs": [],
   "source": [
    "v_d.values()"
   ]
  },
  {
   "cell_type": "code",
   "execution_count": null,
   "metadata": {},
   "outputs": [],
   "source": [
    "v_d['Name']"
   ]
  },
  {
   "cell_type": "code",
   "execution_count": null,
   "metadata": {},
   "outputs": [],
   "source": [
    "v_d.items()"
   ]
  },
  {
   "cell_type": "code",
   "execution_count": null,
   "metadata": {},
   "outputs": [],
   "source": [
    "v_d['Age']"
   ]
  },
  {
   "cell_type": "markdown",
   "metadata": {},
   "source": [
    "#### Set Veri Yapısı\n",
    "\n",
    "Set, farklı veri türlerindeki öğeleri depolayan bir koleksiyondur.  \n",
    "Set, benzersiz kayıtları tutar.  \n",
    "Set veri yapısı onları belirli bir sıraya göre dizine eklemez.  "
   ]
  },
  {
   "cell_type": "code",
   "execution_count": null,
   "metadata": {},
   "outputs": [],
   "source": [
    "var_s = {'Ali', 34, 'Mehmet', 15, 'Ali'}\n",
    "print(var_s)\n",
    "print(type(var_s))"
   ]
  },
  {
   "cell_type": "code",
   "execution_count": null,
   "metadata": {},
   "outputs": [],
   "source": [
    "sayilar = {1, 1, 1, 2, 2, 2, 3, 3, 3}\n",
    "\n",
    "print(sayilar)\n",
    "print(type(sayilar))\n"
   ]
  },
  {
   "cell_type": "code",
   "execution_count": null,
   "metadata": {},
   "outputs": [],
   "source": [
    "harfler = set('lcwaikiki')\n",
    "print(harfler)\n",
    "print(type(harfler))"
   ]
  },
  {
   "cell_type": "markdown",
   "metadata": {},
   "source": [
    "### Tip Dönüşümleri\n",
    "\n",
    "int(), float(), str(), list(), tuple(), set()"
   ]
  },
  {
   "cell_type": "code",
   "execution_count": null,
   "metadata": {},
   "outputs": [],
   "source": [
    "td_1 = '34'\n",
    "\n",
    "td_2 = 4\n",
    "\n",
    "td_3 = 4.9\n",
    "\n",
    "print(type(td_1,), '---', type(td_2), '---', type(td_3))"
   ]
  },
  {
   "cell_type": "code",
   "execution_count": null,
   "metadata": {},
   "outputs": [],
   "source": [
    "t1_1 = int(td_1)\n",
    "t1_2 = float(td_1)\n",
    "\n",
    "print(td_1, \"---\", type(td_1))\n",
    "\n",
    "print(t1_1, \"---\", type(t1_1))\n",
    "\n",
    "print(t1_2, \"---\", type(t1_2))"
   ]
  },
  {
   "cell_type": "code",
   "execution_count": null,
   "metadata": {},
   "outputs": [],
   "source": [
    "t2_1 = str(td_2)\n",
    "t2_2 = float(td_2)\n",
    "\n",
    "print(td_2, \"---\", type(td_2))\n",
    "\n",
    "print(t2_1, \"---\", type(t2_1))\n",
    "\n",
    "print(t2_2, \"---\", type(t2_2))"
   ]
  },
  {
   "cell_type": "code",
   "execution_count": null,
   "metadata": {},
   "outputs": [],
   "source": [
    "t3_1 = int(td_3)\n",
    "t3_2 = str(td_3)\n",
    "\n",
    "print(td_3, \"---\", type(td_3))\n",
    "\n",
    "print(t3_1, \"---\", type(t3_1))\n",
    "\n",
    "print(t3_2, \"---\", type(t3_2))\n",
    "\n"
   ]
  },
  {
   "cell_type": "code",
   "execution_count": null,
   "metadata": {},
   "outputs": [],
   "source": [
    "print(bool(0))\n",
    "print(bool(1))"
   ]
  },
  {
   "cell_type": "code",
   "execution_count": null,
   "metadata": {},
   "outputs": [],
   "source": [
    "td_2 = 4\n",
    "\n",
    "td_3 = 4.9\n",
    "\n",
    "td_4 = 0\n",
    "\n",
    "print(bool(td_2))\n",
    "\n",
    "print(bool(td_3))\n",
    "\n",
    "print(bool(td_4))"
   ]
  },
  {
   "cell_type": "code",
   "execution_count": null,
   "metadata": {},
   "outputs": [],
   "source": [
    "td_1 = '34'\n",
    "\n",
    "td_10 = ''\n",
    "\n",
    "print(bool(td_1))\n",
    "print(bool(td_10))"
   ]
  },
  {
   "cell_type": "code",
   "execution_count": null,
   "metadata": {},
   "outputs": [],
   "source": [
    "# list()\n",
    "\n",
    "ls1 = '4'\n",
    "ls2 = '6'\n",
    "ls3 = '9'\n",
    "\n",
    "s2l = list([ls1, ls2, ls3])\n",
    "# s2l.append(ls2)\n",
    "# s2l.append(list(ls3))\n",
    "\n",
    "print(s2l)\n",
    "print( type(s2l) )"
   ]
  },
  {
   "cell_type": "code",
   "execution_count": null,
   "metadata": {},
   "outputs": [],
   "source": [
    "# tuple()\n",
    "\n",
    "s2t = tuple([ls1, ls2, ls3])\n",
    "\n",
    "print(s2t)\n",
    "print( type(s2t) )"
   ]
  },
  {
   "cell_type": "code",
   "execution_count": null,
   "metadata": {},
   "outputs": [],
   "source": [
    "# set()\n",
    "\n",
    "s2s = set([ls1, ls2, ls3])\n",
    "\n",
    "print(s2s)\n",
    "print( type(s2s) )"
   ]
  },
  {
   "cell_type": "markdown",
   "metadata": {},
   "source": [
    "### Comprehension"
   ]
  },
  {
   "cell_type": "markdown",
   "metadata": {},
   "source": [
    "### List Comprehension"
   ]
  },
  {
   "cell_type": "code",
   "execution_count": null,
   "metadata": {},
   "outputs": [],
   "source": [
    "squares = [ i**2 for i in range(10) if i%2 != 0]\n",
    "squares"
   ]
  },
  {
   "cell_type": "code",
   "execution_count": null,
   "metadata": {},
   "outputs": [],
   "source": [
    "[i.lower() for i in [\"A\",\"B\",\"C\"]]"
   ]
  },
  {
   "cell_type": "code",
   "execution_count": null,
   "metadata": {},
   "outputs": [],
   "source": [
    "[i.upper() for i in [\"a\",\"b\",\"c\"]]"
   ]
  },
  {
   "cell_type": "code",
   "execution_count": null,
   "metadata": {},
   "outputs": [],
   "source": [
    "my_numbers = [ i for i in range(10) if i%2 == 0]\n",
    "my_numbers"
   ]
  },
  {
   "cell_type": "code",
   "execution_count": null,
   "metadata": {},
   "outputs": [],
   "source": [
    "first, second, third = my_numbers[0:3]\n",
    "print(first, second, third)"
   ]
  },
  {
   "cell_type": "markdown",
   "metadata": {},
   "source": [
    "### Tuple Comprehension"
   ]
  },
  {
   "cell_type": "code",
   "execution_count": null,
   "metadata": {},
   "outputs": [],
   "source": [
    "my_numbers = tuple( _ for _ in range(10) if _ % 3 == 0)\n",
    "my_numbers"
   ]
  },
  {
   "cell_type": "code",
   "execution_count": null,
   "metadata": {},
   "outputs": [],
   "source": [
    "first, second, third = my_numbers[0:3]\n",
    "print(first, second, third)"
   ]
  },
  {
   "cell_type": "markdown",
   "metadata": {},
   "source": [
    "### Dictionary Comprehension"
   ]
  },
  {
   "cell_type": "code",
   "execution_count": null,
   "metadata": {},
   "outputs": [],
   "source": [
    "squares = {i: i * i for i in range(10)}\n",
    "squares"
   ]
  },
  {
   "cell_type": "markdown",
   "metadata": {},
   "source": [
    "### Operatörler"
   ]
  },
  {
   "cell_type": "markdown",
   "metadata": {},
   "source": [
    "#### Aritmetik İşlemler * (+, - , * , /, //, %, **)"
   ]
  },
  {
   "cell_type": "code",
   "execution_count": null,
   "metadata": {},
   "outputs": [],
   "source": [
    "5 + 9"
   ]
  },
  {
   "cell_type": "code",
   "execution_count": null,
   "metadata": {},
   "outputs": [],
   "source": [
    "5 - 9"
   ]
  },
  {
   "cell_type": "code",
   "execution_count": null,
   "metadata": {},
   "outputs": [],
   "source": [
    "5 * 9"
   ]
  },
  {
   "cell_type": "code",
   "execution_count": null,
   "metadata": {},
   "outputs": [],
   "source": [
    "5 / 9"
   ]
  },
  {
   "cell_type": "code",
   "execution_count": null,
   "metadata": {},
   "outputs": [],
   "source": [
    "# Tam Sayı Bölme ya da Bölüm\n",
    "9 // 5"
   ]
  },
  {
   "cell_type": "code",
   "execution_count": null,
   "metadata": {},
   "outputs": [],
   "source": [
    "# Kalan\n",
    "9 % 5"
   ]
  },
  {
   "cell_type": "code",
   "execution_count": null,
   "metadata": {},
   "outputs": [],
   "source": [
    "2 ** 6"
   ]
  },
  {
   "cell_type": "markdown",
   "metadata": {},
   "source": [
    "#### Karşılaştırma (==, !=, <, >, <=, >=)"
   ]
  },
  {
   "cell_type": "code",
   "execution_count": null,
   "metadata": {},
   "outputs": [],
   "source": [
    "isim = 'Metin'"
   ]
  },
  {
   "cell_type": "code",
   "execution_count": null,
   "metadata": {},
   "outputs": [],
   "source": [
    "isim == 'Metin'"
   ]
  },
  {
   "cell_type": "code",
   "execution_count": null,
   "metadata": {},
   "outputs": [],
   "source": [
    "isim != 'Metin'"
   ]
  },
  {
   "cell_type": "code",
   "execution_count": null,
   "metadata": {},
   "outputs": [],
   "source": [
    "3 < 5"
   ]
  },
  {
   "cell_type": "code",
   "execution_count": null,
   "metadata": {},
   "outputs": [],
   "source": [
    "3 <= 5"
   ]
  },
  {
   "cell_type": "code",
   "execution_count": null,
   "metadata": {},
   "outputs": [],
   "source": [
    "8 > 18"
   ]
  },
  {
   "cell_type": "code",
   "execution_count": null,
   "metadata": {},
   "outputs": [],
   "source": [
    "8 >= 18"
   ]
  },
  {
   "cell_type": "markdown",
   "metadata": {},
   "source": [
    "#### Değer Atama (=)\n"
   ]
  },
  {
   "cell_type": "code",
   "execution_count": null,
   "metadata": {},
   "outputs": [],
   "source": [
    "isim = 'Metin'"
   ]
  },
  {
   "cell_type": "markdown",
   "metadata": {},
   "source": [
    "#### Mantıksal (and, or, not)"
   ]
  },
  {
   "cell_type": "code",
   "execution_count": null,
   "metadata": {},
   "outputs": [],
   "source": [
    "(5<9) and (10>8)"
   ]
  },
  {
   "cell_type": "code",
   "execution_count": null,
   "metadata": {},
   "outputs": [],
   "source": [
    "(5<9) or (1>8)"
   ]
  },
  {
   "cell_type": "code",
   "execution_count": null,
   "metadata": {},
   "outputs": [],
   "source": [
    "not True"
   ]
  },
  {
   "cell_type": "code",
   "execution_count": null,
   "metadata": {},
   "outputs": [],
   "source": [
    "(1 == 2) or (2 == 3) or (3<=5)"
   ]
  },
  {
   "cell_type": "code",
   "execution_count": null,
   "metadata": {},
   "outputs": [],
   "source": [
    "((1 == 2) or (2 == 3)) and (4 == 4)"
   ]
  },
  {
   "cell_type": "markdown",
   "metadata": {},
   "source": [
    "#### Aitlik (in)\n"
   ]
  },
  {
   "cell_type": "code",
   "execution_count": null,
   "metadata": {},
   "outputs": [],
   "source": [
    "isimler = ['Ali', 'Veli', 'Ayşe']\n",
    "\n",
    "'Ali' in isimler\n"
   ]
  },
  {
   "cell_type": "markdown",
   "metadata": {},
   "source": [
    "#### Kimlik (id, is)"
   ]
  },
  {
   "cell_type": "code",
   "execution_count": null,
   "metadata": {},
   "outputs": [],
   "source": [
    "a = 25\n",
    "id(a)"
   ]
  },
  {
   "cell_type": "code",
   "execution_count": null,
   "metadata": {},
   "outputs": [],
   "source": [
    "b = 25\n",
    "id(b)"
   ]
  },
  {
   "cell_type": "code",
   "execution_count": null,
   "metadata": {},
   "outputs": [],
   "source": [
    "# == işleci nesnelerin içeriğine bakarak o nesnelerin aynı değere sahip olup olmadıklarını sorgular\n",
    "\n",
    "a == 25"
   ]
  },
  {
   "cell_type": "code",
   "execution_count": null,
   "metadata": {},
   "outputs": [],
   "source": [
    "# is işleci nesnelerin kimliklerine bakıp o nesnelerin aynı nesneler olup olmadığını kontrol ederken\n",
    "a = 1000\n",
    "id(a)"
   ]
  },
  {
   "cell_type": "code",
   "execution_count": null,
   "metadata": {},
   "outputs": [],
   "source": [
    "a is 1000"
   ]
  },
  {
   "cell_type": "code",
   "execution_count": null,
   "metadata": {},
   "outputs": [],
   "source": [
    "# Buna göre -5 ile 257 arasında kalan sayılar Python tarafından ufak olarak değerlendiriliyor ve önbelleğe alınıyor. \n",
    "# Bu aralığın dışında kalan sayılar için ise bellekte her defasında ayrı bir nesne oluşturuluyor.\n",
    "\n",
    "c = 257; d=257;\n",
    "\n",
    "print('c Id:', id(c))\n",
    "print('d Id:', id(d))"
   ]
  },
  {
   "cell_type": "markdown",
   "metadata": {},
   "source": [
    "### Fonksiyonlar"
   ]
  },
  {
   "cell_type": "markdown",
   "metadata": {},
   "source": [
    "#### Built-in Fonksiyonlar"
   ]
  },
  {
   "cell_type": "code",
   "execution_count": null,
   "metadata": {},
   "outputs": [],
   "source": [
    "# print(), format()\n",
    "# input()\n",
    "# type()\n",
    "# id(), is(), in()\n",
    "# len()\n",
    "# sorted()\n",
    "# range(), enumerate()\n",
    "# min(), max, pow(), sum(), abs(), round()\n",
    "# open()\n",
    "# help(), exit()\n",
    "\n",
    "# assert\n",
    "# yield\n",
    "\n",
    "\n",
    "# abs()\n",
    "# all()\n",
    "# any()\n",
    "# ascii()\n",
    "# bin()\n",
    "# bool()\n",
    "# bytearray()\n",
    "# bytes()\n",
    "# callable()\n",
    "# chr()\n",
    "# classmethod()\n",
    "# compile()\n",
    "# complex()\n",
    "# delattr()\n",
    "# dict()\n",
    "# dir()\n",
    "# divmod()\n",
    "# enumerate()\n",
    "# eval()\n",
    "# exec()\n",
    "# filter()\n",
    "# float()\n",
    "# format()\n",
    "# frozenset()\n",
    "# getattr()\n",
    "# globals()\n",
    "# hasattr()\n",
    "# hash()\n",
    "# help()\n",
    "# hex()\n",
    "# id()\n",
    "# input()\n",
    "# int()\n",
    "# isinstance()\n",
    "# issubclass()\n",
    "# iter()\n",
    "# len()\n",
    "# list()\n",
    "# locals()\n",
    "# map()\n",
    "# max()\n",
    "# memoryview()\n",
    "# min()\n",
    "# next()\n",
    "# object()\n",
    "# oct()\n",
    "# open()\n",
    "# ord()\n",
    "# pow()\n",
    "# print()\n",
    "# property()\n",
    "# range()\n",
    "# repr()\n",
    "# reversed()\n",
    "# round()\n",
    "# set()\n",
    "# setattr()\n",
    "# slice()\n",
    "# sorted()\n",
    "# @staticmethod()\n",
    "# str()\n",
    "# sum()\n",
    "# super()\n",
    "# tuple()\n",
    "# type()\n",
    "# vars()\n",
    "# zip()"
   ]
  },
  {
   "cell_type": "markdown",
   "metadata": {},
   "source": [
    "**Source:** [https://docs.python.org/3/library/](https://docs.python.org/3/library/)\n",
    "\n",
    "**Source:** [https://www.w3schools.com/python/python_ref_functions.asp](https://www.w3schools.com/python/python_ref_functions.asp)"
   ]
  },
  {
   "cell_type": "code",
   "execution_count": null,
   "metadata": {},
   "outputs": [],
   "source": [
    "print('Merhaba Dünya')\n",
    "\n",
    "print('Merhaba', 'Dünya', sep='***')\n",
    "\n",
    "print('Merhaba Dünya', end=\"\\t\")"
   ]
  },
  {
   "cell_type": "code",
   "execution_count": null,
   "metadata": {},
   "outputs": [],
   "source": [
    "name = input('Adınız: ')\n",
    "\n",
    "print(\"Hoşgeldin %s :-) \" %name)\n",
    "\n",
    "# type(name)"
   ]
  },
  {
   "cell_type": "code",
   "execution_count": null,
   "metadata": {},
   "outputs": [],
   "source": [
    "help(type)"
   ]
  },
  {
   "cell_type": "code",
   "execution_count": null,
   "metadata": {},
   "outputs": [],
   "source": [
    "type(name)"
   ]
  },
  {
   "cell_type": "code",
   "execution_count": null,
   "metadata": {},
   "outputs": [],
   "source": [
    "range(5)"
   ]
  },
  {
   "cell_type": "code",
   "execution_count": null,
   "metadata": {},
   "outputs": [],
   "source": [
    "help(len)"
   ]
  },
  {
   "cell_type": "code",
   "execution_count": null,
   "metadata": {},
   "outputs": [],
   "source": []
  },
  {
   "cell_type": "code",
   "execution_count": null,
   "metadata": {},
   "outputs": [],
   "source": [
    "# iter() & next()\n",
    "mytuple = (\"apple\", \"banana\", \"cherry\")\n",
    "myit = iter(mytuple)"
   ]
  },
  {
   "cell_type": "code",
   "execution_count": null,
   "metadata": {},
   "outputs": [],
   "source": [
    "print(next(myit))\n",
    "print(next(myit))\n",
    "print(next(myit))"
   ]
  },
  {
   "cell_type": "code",
   "execution_count": null,
   "metadata": {},
   "outputs": [],
   "source": []
  },
  {
   "cell_type": "markdown",
   "metadata": {},
   "source": [
    "#### User Defined Function"
   ]
  },
  {
   "cell_type": "markdown",
   "metadata": {},
   "source": [
    "**Define:**  \n",
    "`def func1(par1, par2):\n",
    "    expression1\n",
    "    expression2`\n",
    "\n",
    "**Using:** func1(arg1, arg2)\n",
    "    \n",
    "**Define:**  \n",
    "`def func2(par1, par2):\n",
    "    expression1\n",
    "    expression2\n",
    "    return expressions1 + expressions1`\n",
    "    \n",
    "**Using:** func2(arg1, arg2)"
   ]
  },
  {
   "cell_type": "code",
   "execution_count": null,
   "metadata": {},
   "outputs": [],
   "source": [
    "def bmi(weight, height):\n",
    "    return (weight / (height ** 2))"
   ]
  },
  {
   "cell_type": "code",
   "execution_count": null,
   "metadata": {},
   "outputs": [],
   "source": [
    "bmi(85, 1.74)"
   ]
  },
  {
   "cell_type": "code",
   "execution_count": null,
   "metadata": {},
   "outputs": [],
   "source": [
    "bmi(weight=85, height=1.74)"
   ]
  },
  {
   "cell_type": "code",
   "execution_count": null,
   "metadata": {},
   "outputs": [],
   "source": []
  },
  {
   "cell_type": "code",
   "execution_count": null,
   "metadata": {},
   "outputs": [],
   "source": [
    "def alan(r, pi=3.14):\n",
    "    return pi*r*r"
   ]
  },
  {
   "cell_type": "code",
   "execution_count": null,
   "metadata": {},
   "outputs": [],
   "source": [
    "alan(2)"
   ]
  },
  {
   "cell_type": "code",
   "execution_count": null,
   "metadata": {},
   "outputs": [],
   "source": [
    "alan(r=2)"
   ]
  },
  {
   "cell_type": "code",
   "execution_count": null,
   "metadata": {},
   "outputs": [],
   "source": []
  },
  {
   "cell_type": "code",
   "execution_count": null,
   "metadata": {},
   "outputs": [],
   "source": [
    "# Belirsiz Sayıda Parametre \n",
    "def add_numbers( *num ):\n",
    "    sum = 0\n",
    "    for i in num:\n",
    "        sum += i\n",
    "    return sum"
   ]
  },
  {
   "cell_type": "code",
   "execution_count": null,
   "metadata": {},
   "outputs": [],
   "source": [
    "add_numbers(1,2,3,4,5)"
   ]
  },
  {
   "cell_type": "code",
   "execution_count": null,
   "metadata": {},
   "outputs": [],
   "source": [
    "l1 = [3, 5, 'lcw', True]\n",
    "\n",
    "add_numbers(l1)"
   ]
  },
  {
   "cell_type": "code",
   "execution_count": null,
   "metadata": {},
   "outputs": [],
   "source": []
  },
  {
   "cell_type": "code",
   "execution_count": null,
   "metadata": {},
   "outputs": [],
   "source": [
    "# Belirsiz Sayıda Key Value Değerleri \n",
    "def key_value( **par ):\n",
    "    print(par)"
   ]
  },
  {
   "cell_type": "code",
   "execution_count": null,
   "metadata": {},
   "outputs": [],
   "source": [
    "key_value(Ankara = '06', Istanbul = '34')"
   ]
  },
  {
   "cell_type": "code",
   "execution_count": null,
   "metadata": {},
   "outputs": [],
   "source": [
    "key_value(Il = 'Ankara', Plaka='06')"
   ]
  },
  {
   "cell_type": "code",
   "execution_count": null,
   "metadata": {},
   "outputs": [],
   "source": [
    "key_value(Il = ['Ankara', 'Istanbul', 'Izmir'], Plaka = ['06', '34', '35'])"
   ]
  },
  {
   "cell_type": "markdown",
   "metadata": {},
   "source": [
    "#### `*args` ve `**kwargs` Kullanımı\n",
    "\n",
    "**Source:** https://scipy-lectures.org/intro/language/functions.html#function-definition"
   ]
  },
  {
   "cell_type": "markdown",
   "metadata": {},
   "source": [
    "`*args` Kullanımı  \n",
    "\n",
    "Return: `*args` --> tuple()"
   ]
  },
  {
   "cell_type": "code",
   "execution_count": null,
   "metadata": {},
   "outputs": [],
   "source": [
    "def args_func( *args ):\n",
    "    print( args )\n",
    "    \n",
    "args_func(1, 3, 5, 7, 9)\n",
    "\n",
    "type(args_func)"
   ]
  },
  {
   "cell_type": "code",
   "execution_count": null,
   "metadata": {},
   "outputs": [],
   "source": []
  },
  {
   "cell_type": "markdown",
   "metadata": {},
   "source": [
    "`**kwargs` Kullanımı\n",
    "\n",
    "Return: `**kwarg` --> dictionary{}"
   ]
  },
  {
   "cell_type": "code",
   "execution_count": null,
   "metadata": {},
   "outputs": [],
   "source": [
    "def kwargs_func( **kwargs ):\n",
    "    for k, v in kwargs.items():\n",
    "        print('Key:', k, \"<--->\", 'Value:', v)\n",
    "    \n",
    "kwargs_func(Ankara = '06')"
   ]
  },
  {
   "cell_type": "code",
   "execution_count": null,
   "metadata": {},
   "outputs": [],
   "source": []
  },
  {
   "cell_type": "code",
   "execution_count": null,
   "metadata": {},
   "outputs": [],
   "source": [
    "def args_kwargs_func(*args, **kwargs):\n",
    "    for i in args:\n",
    "        print('Args:', i)\n",
    "    for k, v in kwargs.items():\n",
    "        print('Key:', k, \"<--->\", 'Value:', v)\n",
    "        \n",
    "args_kwargs_func(1, 2, 3, İstanbul = '34')"
   ]
  },
  {
   "cell_type": "code",
   "execution_count": null,
   "metadata": {},
   "outputs": [],
   "source": [
    "plaka = {\"Ankara\" : 6, \"İstanbul\" : 34, \"Kastamonu\" : 37}"
   ]
  },
  {
   "cell_type": "code",
   "execution_count": null,
   "metadata": {},
   "outputs": [],
   "source": [
    "def args_kwargs_func2(*args, **kwargs):\n",
    "    print(args)\n",
    "    print(kwargs)"
   ]
  },
  {
   "cell_type": "code",
   "execution_count": null,
   "metadata": {},
   "outputs": [],
   "source": [
    "args_kwargs_func2(\"Ankara\", **plaka)"
   ]
  },
  {
   "cell_type": "markdown",
   "metadata": {},
   "source": [
    "#### Lambda Fonksiyonlar"
   ]
  },
  {
   "cell_type": "code",
   "execution_count": null,
   "metadata": {},
   "outputs": [],
   "source": [
    "add_number = lambda v1, v2: v1 + v2"
   ]
  },
  {
   "cell_type": "code",
   "execution_count": null,
   "metadata": {},
   "outputs": [],
   "source": [
    "print(add_number(9, 7))"
   ]
  },
  {
   "cell_type": "code",
   "execution_count": null,
   "metadata": {},
   "outputs": [],
   "source": [
    "double_number = lambda x: x % 2 == 0\n",
    "print(double_number(0))"
   ]
  },
  {
   "cell_type": "code",
   "execution_count": null,
   "metadata": {},
   "outputs": [],
   "source": [
    "square_1 = lambda x: x**2\n",
    "print(square_1(2))"
   ]
  },
  {
   "cell_type": "code",
   "execution_count": null,
   "metadata": {},
   "outputs": [],
   "source": [
    "# l = [2, 3, 5, 7]\n",
    "\n",
    "# print(*map(lambda sayı: sayı ** 2, l))"
   ]
  },
  {
   "cell_type": "code",
   "execution_count": null,
   "metadata": {},
   "outputs": [],
   "source": [
    "def square_2(sayı):\n",
    "    return sayı ** 2\n",
    "\n",
    "print(*map(square_2, l))"
   ]
  },
  {
   "cell_type": "code",
   "execution_count": null,
   "metadata": {},
   "outputs": [],
   "source": [
    "l = [2, 3, 5, 7]\n",
    "\n",
    "[ i**2 for i in l ]"
   ]
  },
  {
   "cell_type": "code",
   "execution_count": null,
   "metadata": {},
   "outputs": [],
   "source": [
    "#Çift Sayılar\n",
    "\n",
    "l = range(1, 11)\n",
    "\n",
    "[ i**2 for i in l if i%2 == 0 ]"
   ]
  },
  {
   "cell_type": "code",
   "execution_count": null,
   "metadata": {},
   "outputs": [],
   "source": [
    "#Tek Sayılar\n",
    "\n",
    "l = range(1, 11)\n",
    "\n",
    "[ i**2 for i in l if i%2 == 1 ]"
   ]
  },
  {
   "cell_type": "markdown",
   "metadata": {},
   "source": [
    "#### Map, Filter, Reduce"
   ]
  },
  {
   "cell_type": "markdown",
   "metadata": {},
   "source": [
    "#### Map Function\n",
    "\n",
    "**Usage:** map(function_to_apply, list_of_inputs)"
   ]
  },
  {
   "cell_type": "code",
   "execution_count": null,
   "metadata": {},
   "outputs": [],
   "source": [
    "# items = [1, 2, 3, 4, 5]\n",
    "# squared = []\n",
    "\n",
    "# for i in items:\n",
    "#     squared.append(i**2)\n",
    "\n",
    "items = [1, 2, 3, 4, 5]\n",
    "\n",
    "squared = list(map(lambda x: x**2, items))"
   ]
  },
  {
   "cell_type": "markdown",
   "metadata": {},
   "source": []
  },
  {
   "cell_type": "markdown",
   "metadata": {},
   "source": [
    "#### Filter Function\n",
    "\n",
    "Belirli koşullarda yeni bir liste oluşturmak istediğimizde `filter function` kullanılır.\n",
    "\n",
    "The filter resembles a for loop but it is a builtin function and faster.\n",
    "\n",
    "**Usage:** list(filter(function_to_apply, list_of_inputs)"
   ]
  },
  {
   "cell_type": "code",
   "execution_count": null,
   "metadata": {},
   "outputs": [],
   "source": [
    "number_list = range(-5, 5)\n",
    "\n",
    "less_than_zero = list(filter(lambda x: x < 0, number_list))\n",
    "\n",
    "print(less_than_zero)"
   ]
  },
  {
   "cell_type": "markdown",
   "metadata": {},
   "source": [
    "#### Reduce Function\n",
    "\n",
    "Listede bir hesaplama yapmak ve sonucu döndürmek istendiğinde `reduce function` kullanılır.\n",
    "\n",
    "**Usage:** reduce(function_to_apply, list_of_inputs)"
   ]
  },
  {
   "cell_type": "code",
   "execution_count": null,
   "metadata": {},
   "outputs": [],
   "source": [
    "product = 1\n",
    "\n",
    "list = [1, 2, 3, 4]\n",
    "\n",
    "for num in list:\n",
    "    product = product * num\n",
    "\n",
    "# product = 24\n",
    "\n",
    "product"
   ]
  },
  {
   "cell_type": "code",
   "execution_count": null,
   "metadata": {},
   "outputs": [],
   "source": [
    "from functools import reduce\n",
    "\n",
    "product = reduce((lambda x, y: x * y), [1, 2, 3, 4])\n",
    "\n",
    "product"
   ]
  },
  {
   "cell_type": "markdown",
   "metadata": {},
   "source": [
    "#### Koşul Deyimleri ve Döngüler"
   ]
  },
  {
   "cell_type": "markdown",
   "metadata": {},
   "source": [
    "#### Koşul Deyimleri\n",
    "    * if\n",
    "    * if-else\n",
    "    * if-elif-else"
   ]
  },
  {
   "cell_type": "markdown",
   "metadata": {},
   "source": [
    "#### if"
   ]
  },
  {
   "cell_type": "markdown",
   "metadata": {},
   "source": [
    "`if condition:\n",
    "    expression`  "
   ]
  },
  {
   "cell_type": "code",
   "execution_count": null,
   "metadata": {},
   "outputs": [],
   "source": [
    "city = 'İstanbul'\n",
    "\n",
    "if city =='İstanbul':\n",
    "    print(\"Most Beautiful City %s\" %city)"
   ]
  },
  {
   "cell_type": "code",
   "execution_count": null,
   "metadata": {},
   "outputs": [],
   "source": [
    "if True:\n",
    "    print('Selam LCW')"
   ]
  },
  {
   "cell_type": "code",
   "execution_count": null,
   "metadata": {},
   "outputs": [],
   "source": [
    "if 1==1:\n",
    "    print('Merhaba LCW')"
   ]
  },
  {
   "cell_type": "markdown",
   "metadata": {},
   "source": [
    "#### if-else"
   ]
  },
  {
   "cell_type": "markdown",
   "metadata": {},
   "source": [
    "`if condition:\n",
    "    expression\n",
    "else:\n",
    "    expression`"
   ]
  },
  {
   "cell_type": "code",
   "execution_count": null,
   "metadata": {},
   "outputs": [],
   "source": [
    "# cover = stok/satis\n",
    "\n",
    "cover = int(input('Cover: '))\n",
    "\n",
    "if cover <= 1:\n",
    "    print(\"Cover Süper\")\n",
    "elif cover > 1 and cover <= 2:\n",
    "    print(\"Cover İyi\")\n",
    "elif cover > 2:\n",
    "    print(\"Cover Kötü\")"
   ]
  },
  {
   "cell_type": "markdown",
   "metadata": {},
   "source": [
    "#### if-elif-else"
   ]
  },
  {
   "cell_type": "markdown",
   "metadata": {},
   "source": [
    "`if condition1:  \n",
    "    expression1\n",
    "elif condition2:  \n",
    "    expression2\n",
    "else:  \n",
    "    expression3`"
   ]
  },
  {
   "cell_type": "code",
   "execution_count": null,
   "metadata": {},
   "outputs": [],
   "source": [
    "bmi = int(input('BMI Index:'))\n",
    "\n",
    "if bmi<18.5:\n",
    "    print('UnderWeight')\n",
    "elif bmi >= 18.5 and bmi <= 24.9:\n",
    "    print('Normal')\n",
    "elif bmi >=25 and bmi <=29.9:\n",
    "    print('OverWeight')\n",
    "elif bmi >=30 and bmi<=34.9:\n",
    "    print('Obese')\n",
    "else:\n",
    "    print('Extremly Obese')"
   ]
  },
  {
   "cell_type": "markdown",
   "metadata": {},
   "source": [
    "#### Döngüler\n",
    "    * For\n",
    "    * While"
   ]
  },
  {
   "cell_type": "markdown",
   "metadata": {},
   "source": [
    "#### For"
   ]
  },
  {
   "cell_type": "code",
   "execution_count": null,
   "metadata": {},
   "outputs": [],
   "source": [
    "for i in 'alfabet':\n",
    "    print(i)"
   ]
  },
  {
   "cell_type": "code",
   "execution_count": null,
   "metadata": {},
   "outputs": [],
   "source": [
    "for i, j in enumerate('alfabet'):\n",
    "    print(i, j)"
   ]
  },
  {
   "cell_type": "code",
   "execution_count": null,
   "metadata": {},
   "outputs": [],
   "source": [
    "for i in range(0,5):\n",
    "    print(i)"
   ]
  },
  {
   "cell_type": "code",
   "execution_count": null,
   "metadata": {},
   "outputs": [],
   "source": [
    "for i in range(0, 10, 2):\n",
    "    print(i)"
   ]
  },
  {
   "cell_type": "code",
   "execution_count": null,
   "metadata": {},
   "outputs": [],
   "source": [
    "for i in range(25, 0, -5):\n",
    "    print(i)"
   ]
  },
  {
   "cell_type": "code",
   "execution_count": null,
   "metadata": {},
   "outputs": [],
   "source": [
    "l1 = [0, 2, 4, 6, 8]\n",
    "\n",
    "for i in l1:\n",
    "    print(i)"
   ]
  },
  {
   "cell_type": "markdown",
   "metadata": {},
   "source": [
    "#### While"
   ]
  },
  {
   "cell_type": "code",
   "execution_count": null,
   "metadata": {},
   "outputs": [],
   "source": [
    "i = 0\n",
    "\n",
    "while t<5:\n",
    "    print('Merhaba')\n",
    "    i+=1"
   ]
  },
  {
   "cell_type": "code",
   "execution_count": null,
   "metadata": {},
   "outputs": [],
   "source": [
    "i = 0\n",
    "while True:\n",
    "    print('Merhaba')\n",
    "    i += 1\n",
    "    if i >= 5:\n",
    "        break"
   ]
  },
  {
   "cell_type": "code",
   "execution_count": null,
   "metadata": {},
   "outputs": [],
   "source": [
    "sifre = 'lcw'\n",
    "\n",
    "while True:\n",
    "    p = input('Lütfen şifreyi giriniz:')\n",
    "    if sifre == p:\n",
    "        print('Şifre Doğru')\n",
    "        break\n",
    "    else:\n",
    "        print('Şifre Yanlış')\n",
    "        break"
   ]
  },
  {
   "cell_type": "markdown",
   "metadata": {},
   "source": [
    "#### Break, Pass, Continue"
   ]
  },
  {
   "cell_type": "code",
   "execution_count": null,
   "metadata": {},
   "outputs": [],
   "source": [
    "# break deyimi yardımıyla, devam eden bir süreci kesintiye ugratabiliriz.\n",
    "\n",
    "# continue deyiminin görevi kendisinden sonra gelen her seyin es geçilip döngünün basına dönülmesini saglamaktır\n",
    "\n",
    "# pass deyimi Pyhon’da 'görmezden gel, hiçbir sey yapma' anlamında kullanılır\n",
    "# pass deyimi kodlarınız henüz taslak asamasında oldugu zaman da kullanabilir.\n"
   ]
  },
  {
   "cell_type": "code",
   "execution_count": null,
   "metadata": {},
   "outputs": [],
   "source": [
    "for i in range(10):\n",
    "    if i == 5:\n",
    "        break\n",
    "    print(i)"
   ]
  },
  {
   "cell_type": "code",
   "execution_count": null,
   "metadata": {},
   "outputs": [],
   "source": [
    "for i in range(10):\n",
    "    if i == 5:\n",
    "        continue\n",
    "    print(i)"
   ]
  },
  {
   "cell_type": "code",
   "execution_count": null,
   "metadata": {},
   "outputs": [],
   "source": [
    "num = int(input('Number:'))\n",
    "\n",
    "if num > 0:\n",
    "    print(\"0'dan Büyük\")\n",
    "elif num == 0:\n",
    "    print(\"0'a Eşit\")\n",
    "else:\n",
    "    pass\n"
   ]
  },
  {
   "cell_type": "markdown",
   "metadata": {},
   "source": [
    "### Hata Yakalama"
   ]
  },
  {
   "cell_type": "markdown",
   "metadata": {},
   "source": [
    "#### Hata Türleri\n",
    "    * Programcı Hataları(Error)\n",
    "    * Program Kusurları(Bug)\n",
    "    * İstisnalar(Exception)"
   ]
  },
  {
   "cell_type": "markdown",
   "metadata": {},
   "source": [
    "#### Try Except"
   ]
  },
  {
   "cell_type": "code",
   "execution_count": null,
   "metadata": {},
   "outputs": [],
   "source": [
    "v1 = int(input(\"Ilk Sayı: \"))\n",
    "v2 = int(input(\"Ikinci Sayı: \"))\n",
    "\n",
    "print(v1, \"/\", v1, \"=\", v1 / v2)"
   ]
  },
  {
   "cell_type": "code",
   "execution_count": null,
   "metadata": {},
   "outputs": [],
   "source": [
    "v1 = input(\"İlk Sayı: \")\n",
    "v2 = input(\"İkinci Sayı: \")\n",
    "\n",
    "try:\n",
    "    n1 = int(v1)\n",
    "    n2 = int(v2)\n",
    "    print(n1, \"/\", n2, \"=\", n1 / n2)\n",
    "except ValueError:\n",
    "    print(\"Lütfen sadece sayı girin!\")"
   ]
  },
  {
   "cell_type": "code",
   "execution_count": null,
   "metadata": {},
   "outputs": [],
   "source": [
    "v1 = input(\"İlk Sayı: \")\n",
    "v2 = input(\"İkinci Sayı: \")\n",
    "\n",
    "try:\n",
    "    n1 = int(v1)\n",
    "    n2 = int(v2)\n",
    "    print(n1, \"/\", n2, \"=\", n1 / n2)\n",
    "except ZeroDivisionError:\n",
    "    print(\"Bir sayıyı 0'a bölemezsiniz!\")"
   ]
  },
  {
   "cell_type": "code",
   "execution_count": null,
   "metadata": {},
   "outputs": [],
   "source": [
    "v1 = input(\"İlk Sayı: \")\n",
    "v2 = input(\"İkinci Sayı: \")\n",
    "\n",
    "try:\n",
    "    n1 = int(v1)\n",
    "    n2 = int(v2)\n",
    "    print(n1, \"/\", n2, \"=\", n1 / n2)\n",
    "except ValueError:\n",
    "    print(\"Lütfen sadece sayı girin!\")\n",
    "except ZeroDivisionError:\n",
    "    print(\"Bir sayıyı 0'a bölemezsiniz!\")"
   ]
  },
  {
   "cell_type": "code",
   "execution_count": null,
   "metadata": {},
   "outputs": [],
   "source": [
    "v1 = input(\"İlk Sayı: \")\n",
    "v2 = input(\"İkinci Sayı: \")\n",
    "\n",
    "try:\n",
    "    n1 = int(v1)\n",
    "    n2 = int(v2)\n",
    "    print(n1, \"/\", n2, \"=\", n1 / n2)\n",
    "except (ValueError, ZeroDivisionError):\n",
    "    print(\"Bir Hata Oluştu!\")\n"
   ]
  },
  {
   "cell_type": "code",
   "execution_count": null,
   "metadata": {},
   "outputs": [],
   "source": [
    "while True:\n",
    "    v1 = input(\"İlk sayı (Programdan çıkmak için q tuşuna basın): \")\n",
    "    if v1 == \"q\":\n",
    "        break\n",
    "    v2 = input(\"ikinci sayı: \")\n",
    "    try:\n",
    "        n1 = int(v1)\n",
    "        n2 = int(v2)\n",
    "        print(n1, \"/\", n2, \"=\", n1 / n2)\n",
    "#         break\n",
    "    except (ValueError, ZeroDivisionError):\n",
    "        print(\"Bir Hata Oluştu!:\")\n",
    "        print(\"Lütfen tekrar deneyin!\")"
   ]
  },
  {
   "cell_type": "markdown",
   "metadata": {},
   "source": [
    "#### Try-Except-As"
   ]
  },
  {
   "cell_type": "code",
   "execution_count": null,
   "metadata": {},
   "outputs": [],
   "source": [
    "while True:\n",
    "    v1 = input(\"İlk sayı (Programdan çıkmak için q tuşuna basın): \")\n",
    "    if v1 == \"q\":\n",
    "        break\n",
    "    v2 = input(\"ikinci sayı: \")\n",
    "    try:\n",
    "        n1 = int(v1)\n",
    "        n2 = int(v2)\n",
    "        print(n1, \"/\", n2, \"=\", n1 / n2)\n",
    "#         break\n",
    "    except (ValueError, ZeroDivisionError) as hata:\n",
    "        print(\"Bir Hata Oluştu:\", hata)\n",
    "        print(\"Lütfen tekrar deneyiniz!\")"
   ]
  },
  {
   "cell_type": "markdown",
   "metadata": {},
   "source": [
    "#### Try Except Else"
   ]
  },
  {
   "cell_type": "code",
   "execution_count": null,
   "metadata": {},
   "outputs": [],
   "source": [
    "try:\n",
    "    bölünen = int(input(\"bölünecek sayı: \"))\n",
    "    bölen = int(input(\"bölen sayı: \"))\n",
    "except ValueError:\n",
    "    print(\"Lütfen sadece sayı girin!\")\n",
    "else:\n",
    "    try:\n",
    "        print(bölünen/bölen)\n",
    "    except ZeroDivisionError:\n",
    "        print(\"Bir sayıyı 0'a bölemezsiniz!\")"
   ]
  },
  {
   "cell_type": "markdown",
   "metadata": {},
   "source": [
    "#### Try Except Finally"
   ]
  },
  {
   "cell_type": "code",
   "execution_count": null,
   "metadata": {},
   "outputs": [],
   "source": [
    "try:\n",
    "    dosya = open(\"file1.txt\", \"r\")\n",
    "except IOError:\n",
    "    print(\"Bir Hata Oluştu!\")\n",
    "finally:\n",
    "    dosya.close()"
   ]
  },
  {
   "cell_type": "markdown",
   "metadata": {},
   "source": [
    "#### Raise"
   ]
  },
  {
   "cell_type": "code",
   "execution_count": null,
   "metadata": {},
   "outputs": [],
   "source": [
    "tr_karakter = \"ıİşŞçÇğĞüÜöÖ\"\n",
    "\n",
    "parola = input(\"Parolanız: \")\n",
    "\n",
    "for i in parola:\n",
    "    if i in tr_karakter:\n",
    "        raise TypeError(\"Parolada Türkçe karakter kullanılamaz!\")\n",
    "    else:\n",
    "        pass\n",
    "print(\"Parola kabul edildi!\")"
   ]
  },
  {
   "cell_type": "markdown",
   "metadata": {},
   "source": [
    "### Moduller"
   ]
  },
  {
   "cell_type": "markdown",
   "metadata": {},
   "source": [
    "- import module\n",
    "\n",
    "- import module as m\n",
    "___\n",
    "\n",
    "- from module import *\n",
    "\n",
    "- from module import function, attributes\n",
    "\n",
    "- from module import function as f, attributes as a\n"
   ]
  },
  {
   "cell_type": "markdown",
   "metadata": {},
   "source": [
    "#### Built-in Moduller\n",
    "    * os\n",
    "    * sys\n",
    "    * random\n",
    "    * datetime\n",
    "    * time\n",
    "    * subprocess\n",
    "    \n",
    "**Source:** [The Python Standard Library](https://docs.python.org/3/library/)"
   ]
  },
  {
   "cell_type": "markdown",
   "metadata": {},
   "source": [
    "#### os Modulu"
   ]
  },
  {
   "cell_type": "code",
   "execution_count": null,
   "metadata": {},
   "outputs": [],
   "source": [
    "import os\n",
    "os"
   ]
  },
  {
   "cell_type": "code",
   "execution_count": null,
   "metadata": {},
   "outputs": [],
   "source": [
    "dir(os)"
   ]
  },
  {
   "cell_type": "code",
   "execution_count": null,
   "metadata": {},
   "outputs": [],
   "source": [
    "os.name"
   ]
  },
  {
   "cell_type": "code",
   "execution_count": null,
   "metadata": {},
   "outputs": [],
   "source": [
    "os.getcwd()"
   ]
  },
  {
   "cell_type": "code",
   "execution_count": null,
   "metadata": {},
   "outputs": [],
   "source": [
    "os.makedirs('Test123/Test12/Test1')"
   ]
  },
  {
   "cell_type": "code",
   "execution_count": null,
   "metadata": {
    "collapsed": true,
    "jupyter": {
     "outputs_hidden": true
    }
   },
   "outputs": [],
   "source": [
    "os.environ['Path_Variable']= 'Value'"
   ]
  },
  {
   "cell_type": "code",
   "execution_count": null,
   "metadata": {},
   "outputs": [],
   "source": [
    "from os import name, listdir, getcwd"
   ]
  },
  {
   "cell_type": "code",
   "execution_count": null,
   "metadata": {},
   "outputs": [],
   "source": [
    "name"
   ]
  },
  {
   "cell_type": "code",
   "execution_count": null,
   "metadata": {},
   "outputs": [],
   "source": [
    "listdir()"
   ]
  },
  {
   "cell_type": "code",
   "execution_count": null,
   "metadata": {},
   "outputs": [],
   "source": [
    "getcwd()"
   ]
  },
  {
   "cell_type": "markdown",
   "metadata": {},
   "source": [
    "#### sys Modulu"
   ]
  },
  {
   "cell_type": "code",
   "execution_count": null,
   "metadata": {},
   "outputs": [],
   "source": [
    "import sys\n",
    "sys"
   ]
  },
  {
   "cell_type": "code",
   "execution_count": null,
   "metadata": {},
   "outputs": [],
   "source": [
    "dir(sys)"
   ]
  },
  {
   "cell_type": "code",
   "execution_count": null,
   "metadata": {},
   "outputs": [],
   "source": [
    "print(sys.version)\n",
    "\n",
    "print(sys.version_info.major)\n",
    "print(sys.version_info.minor)\n",
    "print(sys.version_info.micro)"
   ]
  },
  {
   "cell_type": "code",
   "execution_count": null,
   "metadata": {},
   "outputs": [],
   "source": [
    "sys.getwindowsversion()"
   ]
  },
  {
   "cell_type": "code",
   "execution_count": null,
   "metadata": {},
   "outputs": [],
   "source": [
    "from sys import *\n",
    "\n",
    "print(version)\n",
    "print(version_info)"
   ]
  },
  {
   "cell_type": "markdown",
   "metadata": {},
   "source": [
    "#### random Modulu"
   ]
  },
  {
   "cell_type": "code",
   "execution_count": null,
   "metadata": {},
   "outputs": [],
   "source": [
    "import random\n",
    "random"
   ]
  },
  {
   "cell_type": "code",
   "execution_count": null,
   "metadata": {},
   "outputs": [],
   "source": [
    "dir(random)"
   ]
  },
  {
   "cell_type": "code",
   "execution_count": null,
   "metadata": {},
   "outputs": [],
   "source": [
    "random.randint(1, 10)"
   ]
  },
  {
   "cell_type": "code",
   "execution_count": null,
   "metadata": {},
   "outputs": [],
   "source": [
    "random.uniform(5, 25)"
   ]
  },
  {
   "cell_type": "code",
   "execution_count": null,
   "metadata": {},
   "outputs": [],
   "source": [
    "liste = [random.randint(0, 10000) for i in range(10)]\n",
    "liste"
   ]
  },
  {
   "cell_type": "code",
   "execution_count": null,
   "metadata": {},
   "outputs": [],
   "source": [
    "random.seed(1923)\n",
    "random.randint(1, 10)"
   ]
  },
  {
   "cell_type": "markdown",
   "metadata": {},
   "source": [
    "#### datetime Modulu"
   ]
  },
  {
   "cell_type": "code",
   "execution_count": null,
   "metadata": {},
   "outputs": [],
   "source": [
    "from datetime import date, time, datetime\n",
    "\n",
    "# Zaman, saat, tarihler ile ilgili işlem yapmak istediğinizde kullanabileceğiniz standart kütüphanedir."
   ]
  },
  {
   "cell_type": "code",
   "execution_count": null,
   "metadata": {},
   "outputs": [],
   "source": [
    "dir(datetime)"
   ]
  },
  {
   "cell_type": "code",
   "execution_count": null,
   "metadata": {},
   "outputs": [],
   "source": [
    "n = datetime.now()\n",
    "n"
   ]
  },
  {
   "cell_type": "code",
   "execution_count": null,
   "metadata": {},
   "outputs": [],
   "source": [
    "n.year"
   ]
  },
  {
   "cell_type": "code",
   "execution_count": null,
   "metadata": {},
   "outputs": [],
   "source": [
    "n.month"
   ]
  },
  {
   "cell_type": "code",
   "execution_count": null,
   "metadata": {},
   "outputs": [],
   "source": [
    "n.day"
   ]
  },
  {
   "cell_type": "code",
   "execution_count": null,
   "metadata": {},
   "outputs": [],
   "source": [
    "print(\"Tarih: \", n.day,\".\",n.month,\".\",n.year, sep='')"
   ]
  },
  {
   "cell_type": "code",
   "execution_count": null,
   "metadata": {},
   "outputs": [],
   "source": [
    "print(\"Saat: \", n.hour,\":\",n.minute,\":\",n.second,\":\",n.microsecond, sep='')"
   ]
  },
  {
   "cell_type": "code",
   "execution_count": null,
   "metadata": {},
   "outputs": [],
   "source": [
    "t = datetime.today\n",
    "t()"
   ]
  },
  {
   "cell_type": "code",
   "execution_count": null,
   "metadata": {},
   "outputs": [],
   "source": [
    "#now to timestamp\n",
    "\n",
    "n = datetime.now()\n",
    "print(\"Now:\", n)\n",
    "ts = datetime.timestamp(n)\n",
    "print(ts)"
   ]
  },
  {
   "cell_type": "code",
   "execution_count": null,
   "metadata": {},
   "outputs": [],
   "source": [
    "# timestamp to now\n",
    "\n",
    "n = datetime.fromtimestamp(ts)\n",
    "print(\"Now:\", n)"
   ]
  },
  {
   "cell_type": "code",
   "execution_count": null,
   "metadata": {},
   "outputs": [],
   "source": [
    "from datetime import datetime\n",
    "\n",
    "t1 = datetime.now();print(\"Start Time: \", t1)\n",
    "#     todo1\n",
    "#     todo2\n",
    "#     todo3\n",
    "\n",
    "t2 = datetime.now();print(\"End Time: \", t2)\n",
    "print(\"Total Time: \", t2-t1)"
   ]
  },
  {
   "cell_type": "code",
   "execution_count": null,
   "metadata": {},
   "outputs": [],
   "source": [
    "from datetime import datetime\n",
    "\n",
    "t1 = datetime.now()\n",
    "\n",
    "t2 = datetime.strftime(t1, '%Y%m%d-%H%M%S')\n",
    "\n",
    "filename = \"Musteri_\" + t2 + \".csv\""
   ]
  },
  {
   "cell_type": "code",
   "execution_count": null,
   "metadata": {},
   "outputs": [],
   "source": []
  },
  {
   "cell_type": "markdown",
   "metadata": {},
   "source": [
    "#### time Modulu"
   ]
  },
  {
   "cell_type": "code",
   "execution_count": null,
   "metadata": {},
   "outputs": [],
   "source": [
    "import time\n",
    "time.sleep(3)"
   ]
  },
  {
   "cell_type": "code",
   "execution_count": null,
   "metadata": {},
   "outputs": [],
   "source": [
    "t0 = time.time()\n",
    "\n",
    "time.sleep(10)\n",
    "\n",
    "time.time() - t0"
   ]
  },
  {
   "cell_type": "markdown",
   "metadata": {},
   "source": [
    "#### subprocess Modulu"
   ]
  },
  {
   "cell_type": "code",
   "execution_count": null,
   "metadata": {},
   "outputs": [],
   "source": [
    "import subprocess as sp"
   ]
  },
  {
   "cell_type": "code",
   "execution_count": null,
   "metadata": {},
   "outputs": [],
   "source": [
    "sp.call('notepad.exe')"
   ]
  },
  {
   "cell_type": "code",
   "execution_count": null,
   "metadata": {},
   "outputs": [],
   "source": []
  },
  {
   "cell_type": "markdown",
   "metadata": {},
   "source": [
    "### tqdm Modulu"
   ]
  },
  {
   "cell_type": "code",
   "execution_count": null,
   "metadata": {},
   "outputs": [],
   "source": [
    "from tqdm import tqdm"
   ]
  },
  {
   "cell_type": "code",
   "execution_count": null,
   "metadata": {},
   "outputs": [],
   "source": [
    "for i in tqdm(range(10000)):\n",
    "    pass"
   ]
  },
  {
   "cell_type": "code",
   "execution_count": null,
   "metadata": {},
   "outputs": [],
   "source": [
    "from tqdm import trange\n",
    "\n",
    "for i in trange(1000):\n",
    "    sleep(1)"
   ]
  },
  {
   "cell_type": "code",
   "execution_count": null,
   "metadata": {},
   "outputs": [],
   "source": [
    "from tqdm import tqdm\n",
    "from time import sleep\n",
    "\n",
    "text = \"\"\n",
    "for char in tqdm([\"a\", \"b\", \"c\", \"d\"]):\n",
    "    sleep(0.25)\n",
    "    text = text + char"
   ]
  },
  {
   "cell_type": "code",
   "execution_count": null,
   "metadata": {},
   "outputs": [],
   "source": []
  },
  {
   "cell_type": "markdown",
   "metadata": {},
   "source": [
    "### pickle Modulu"
   ]
  },
  {
   "cell_type": "code",
   "execution_count": null,
   "metadata": {},
   "outputs": [],
   "source": [
    "### Write\n",
    "    with open(\"Pickle/\" + 'opt_list.pkl', 'wb') as f:\n",
    "        pickle.dump(opt_list, f)\n",
    "        \n",
    "### Read\n",
    "    with open(\"Pickle/\" + 'opt_list.pkl', 'rb') as f:\n",
    "        opt_list = pickle.load(f)"
   ]
  },
  {
   "cell_type": "code",
   "execution_count": null,
   "metadata": {},
   "outputs": [],
   "source": []
  },
  {
   "cell_type": "markdown",
   "metadata": {},
   "source": [
    "### gc Modulu"
   ]
  },
  {
   "cell_type": "code",
   "execution_count": null,
   "metadata": {},
   "outputs": [],
   "source": [
    "##Garbage Collection\n",
    "\n",
    "import gc\n",
    "gc.enable()\n",
    "\n",
    "application_train = pd.read_csv(PATH+'application_train.csv')\n",
    "y = application_train['TARGET']\n",
    "X = application_train.drop(['TARGET', 'SK_ID_CURR'], axis=1)\n",
    "\n",
    "del application_train\n",
    "gc.collect()"
   ]
  },
  {
   "cell_type": "code",
   "execution_count": null,
   "metadata": {},
   "outputs": [],
   "source": []
  },
  {
   "cell_type": "markdown",
   "metadata": {},
   "source": [
    "#### User Defined Moduller"
   ]
  },
  {
   "cell_type": "code",
   "execution_count": null,
   "metadata": {},
   "outputs": [],
   "source": [
    "# sozluk = {'Book':'Kitap',\n",
    "#           'Computer':'Bilgisayar',\n",
    "#           'Table':'Masa',\n",
    "#           'Happy':'Mutlu',\n",
    "#           'Sad':'Mutsuz'}\n",
    "\n",
    "# def ara(kelime):\n",
    "#     hata = \"{} kelimesi sözlükte yok!\"\n",
    "#     s = sozluk.get(kelime, hata.format(kelime))\n",
    "#     return s"
   ]
  },
  {
   "cell_type": "code",
   "execution_count": null,
   "metadata": {},
   "outputs": [],
   "source": [
    "# import sys\n",
    "# sys.path.append(r'C:\\Users\\METIN.USLU\\Desktop\\lcw_env')\n",
    "\n",
    "# import sozluk_modul\n",
    "from sozluk import ara"
   ]
  },
  {
   "cell_type": "code",
   "execution_count": null,
   "metadata": {},
   "outputs": [],
   "source": [
    "print(ara('Table'))"
   ]
  },
  {
   "cell_type": "code",
   "execution_count": null,
   "metadata": {},
   "outputs": [],
   "source": [
    "print(ara('Book'))"
   ]
  },
  {
   "cell_type": "markdown",
   "metadata": {},
   "source": [
    "#### Third Party Moduller\n",
    "    * Numpy\n",
    "    * Pandas\n",
    "    * Matplotlib"
   ]
  },
  {
   "cell_type": "markdown",
   "metadata": {},
   "source": [
    "### Dosya İşlemleri"
   ]
  },
  {
   "cell_type": "code",
   "execution_count": null,
   "metadata": {},
   "outputs": [],
   "source": [
    "# dosya = open(\"filename\", \"mode\")\n",
    "\n",
    "dosya = open (\"file1.txt\", \"w\")\n",
    "\n",
    "dosya.write(\"Metin Tekin\\nAli Gültekin\\nFeyyaz Uçar\\n\")\n",
    "dosya.close()"
   ]
  },
  {
   "cell_type": "code",
   "execution_count": null,
   "metadata": {},
   "outputs": [],
   "source": [
    "# read()\n",
    "\n",
    "dosya = open(\"file1.txt\", \"r\")\n",
    "print(dosya.read())"
   ]
  },
  {
   "cell_type": "code",
   "execution_count": null,
   "metadata": {},
   "outputs": [],
   "source": [
    "# readline()\n",
    "dosya = open(\"file1.txt\", \"r\")\n",
    "print(dosya.readline())"
   ]
  },
  {
   "cell_type": "code",
   "execution_count": null,
   "metadata": {},
   "outputs": [],
   "source": [
    "print(dosya.readline())"
   ]
  },
  {
   "cell_type": "code",
   "execution_count": null,
   "metadata": {},
   "outputs": [],
   "source": [
    "print(dosya.readline())"
   ]
  },
  {
   "cell_type": "code",
   "execution_count": null,
   "metadata": {},
   "outputs": [],
   "source": [
    "# readlines()\n",
    "dosya = open(\"file1.txt\", \"r\")\n",
    "print(dosya.readlines())"
   ]
  },
  {
   "cell_type": "code",
   "execution_count": null,
   "metadata": {},
   "outputs": [],
   "source": [
    "with open(\"file1.txt\", \"r\") as dosya:\n",
    "    print(dosya.read())"
   ]
  },
  {
   "cell_type": "code",
   "execution_count": null,
   "metadata": {},
   "outputs": [],
   "source": [
    "with open(\"file1.txt\", \"a+\") as f:\n",
    "    f.write(\"Metin USLU\\n\")"
   ]
  },
  {
   "cell_type": "code",
   "execution_count": null,
   "metadata": {},
   "outputs": [],
   "source": [
    "with open(\"file1.txt\", \"r\") as dosya:\n",
    "    print(dosya.read())"
   ]
  },
  {
   "cell_type": "code",
   "execution_count": null,
   "metadata": {},
   "outputs": [],
   "source": [
    "dosya = open(\"file1.txt\", \"a\")\n",
    "dosya.write('Metin\\n')\n",
    "dosya.close()"
   ]
  },
  {
   "cell_type": "code",
   "execution_count": null,
   "metadata": {},
   "outputs": [],
   "source": [
    "with open(\"file1.txt\", \"r\") as dosya:\n",
    "    print(dosya.read())"
   ]
  },
  {
   "cell_type": "code",
   "execution_count": null,
   "metadata": {},
   "outputs": [],
   "source": []
  },
  {
   "cell_type": "markdown",
   "metadata": {
    "colab_type": "text",
    "id": "pMhg6t1k675D"
   },
   "source": [
    "## Referanslar\n",
    "\n",
    "- [CS231n Python Numpy Tutorial](http://cs231n.github.io/python-numpy-tutorial/)\n",
    "- [Python için Türkçe Kılavuz](https://belgeler.yazbel.com/python-istihza.pdf)\n",
    "- [AA]()\n",
    "- [BB]()"
   ]
  },
  {
   "cell_type": "code",
   "execution_count": null,
   "metadata": {},
   "outputs": [],
   "source": []
  }
 ],
 "metadata": {
  "colab": {
   "collapsed_sections": [
    "PTAHQLZT676R",
    "NNuBO6bO676k",
    "nwS9wFGQ677T",
    "DuAK2VqV677V",
    "mGpcOZPC677p",
    "e7kQtwzD677t",
    "UtYuRtNI6772",
    "LaNwQCYW678K",
    "ct0A73Vz678p",
    "SzvCeQ3P6786",
    "zRSvC60r679G",
    "Bm13r-al679M",
    "pBw0NtmC679Q",
    "qN3x1ulv679o",
    "UheI9Iau67-K",
    "blV4fLzx67-N",
    "drTuqVch67-o",
    "BW_9crWx67-9",
    "Ykk1Ld9S67_C"
   ],
   "name": "cs228-python-tutorial.ipynb",
   "provenance": [],
   "version": "0.3.2"
  },
  "kernelspec": {
   "display_name": "Python 3",
   "language": "python",
   "name": "python3"
  },
  "language_info": {
   "codemirror_mode": {
    "name": "ipython",
    "version": 3
   },
   "file_extension": ".py",
   "mimetype": "text/x-python",
   "name": "python",
   "nbconvert_exporter": "python",
   "pygments_lexer": "ipython3",
   "version": "3.8.5"
  }
 },
 "nbformat": 4,
 "nbformat_minor": 4
}
